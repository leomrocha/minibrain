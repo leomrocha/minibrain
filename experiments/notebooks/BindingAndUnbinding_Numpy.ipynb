{
 "cells": [
  {
   "cell_type": "markdown",
   "metadata": {},
   "source": [
    "# Binding and Unbinding Vectors\n",
    "\n",
    "This notebook has as purpose to study the binding and unbinding of different vectors.\n",
    "\n",
    "The vectors might be good to obtain them from Word2Vec or some other methodology"
   ]
  },
  {
   "cell_type": "code",
   "execution_count": 470,
   "metadata": {},
   "outputs": [],
   "source": [
    "import numpy as np\n",
    "from numpy import fft\n",
    "import matplotlib.pyplot as plt\n",
    "%matplotlib inline"
   ]
  },
  {
   "cell_type": "code",
   "execution_count": 532,
   "metadata": {},
   "outputs": [],
   "source": [
    "#Circular Convolution Definition\n",
    "#adapted from here https://github.com/fchollet/keras/issues/2518\n",
    "# and https://stackoverflow.com/questions/35474078/python-1d-array-circular-convolution\n",
    "#copied from:\n",
    "#https://stackoverflow.com/questions/17473917/is-there-a-equivalent-of-scipy-signal-deconvolve-for-2d-arrays\n",
    "\n",
    "def holographic_merge(x,y):\n",
    "    x_fft = fft.fftshift(fft.fftn(x))\n",
    "    y_fft = fft.fftshift(fft.fftn(y))\n",
    "    return fft.fftshift(fft.ifftn(fft.ifftshift(x_fft*y_fft)))\n",
    "\n",
    "def holographic_unmerge(z, y):\n",
    "    z_fft = fft.fftshift(fft.fftn(z))\n",
    "    y_fft = fft.fftshift(fft.fftn(y))\n",
    "    return np.around(fft.fftshift(fft.ifftn(fft.ifftshift(z_fft/y_fft))),14)\n",
    "\n",
    "#Lessons Learned:\n",
    "# - Convolution and Deconvolution precision depend on each other 9deconv will have less)\n",
    "# - I was missing the fftshift part also .... I NEED TO REVIEW MORE MATH!"
   ]
  },
  {
   "cell_type": "code",
   "execution_count": 446,
   "metadata": {},
   "outputs": [],
   "source": [
    "Ar, Ai = np.concatenate([np.random.random(2), np.zeros(3), \n",
    "                         np.random.random(1), np.zeros(4)]), np.zeros(10)\n",
    "Br, Bi = np.concatenate([np.zeros(2), np.random.random(3),\n",
    "                        np.zeros(1), np.random.random(2), np.zeros(2)]), np.zeros(10)"
   ]
  },
  {
   "cell_type": "code",
   "execution_count": 496,
   "metadata": {},
   "outputs": [],
   "source": [
    "x = np.vectorize(complex)(Ar,Ai)\n",
    "y = np.vectorize(complex)(Br,Bi)"
   ]
  },
  {
   "cell_type": "code",
   "execution_count": 497,
   "metadata": {},
   "outputs": [
    {
     "data": {
      "text/plain": [
       "(array([ 0.48210687,  0.10777446,  0.        ,  0.        ,  0.        ,\n",
       "         0.75439675,  0.        ,  0.        ,  0.        ,  0.        ]),\n",
       " array([ 0.        ,  0.        ,  0.52064111,  0.60376688,  0.0274651 ,\n",
       "         0.        ,  0.79939001,  0.48002731,  0.        ,  0.        ]))"
      ]
     },
     "execution_count": 497,
     "metadata": {},
     "output_type": "execute_result"
    }
   ],
   "source": [
    "Ar,Br"
   ]
  },
  {
   "cell_type": "code",
   "execution_count": 533,
   "metadata": {},
   "outputs": [],
   "source": [
    "z =  holographic_merge(x,y)"
   ]
  },
  {
   "cell_type": "code",
   "execution_count": 534,
   "metadata": {},
   "outputs": [
    {
     "data": {
      "text/plain": [
       "array([  2.96003607e-03 -2.53905201e-16j,\n",
       "         3.85391417e-01 +7.65506891e-18j,\n",
       "         7.10348250e-01 +2.79022432e-16j,\n",
       "         5.07214453e-01 -6.46380280e-17j,\n",
       "         2.07195810e-02 -1.88107662e-16j,\n",
       "         4.44089210e-17 -1.81392714e-17j,\n",
       "         6.03057228e-01 +1.84672725e-16j,\n",
       "         6.13135697e-01 +2.45237591e-17j,\n",
       "         3.47191972e-01 +8.28918502e-17j,   7.83117600e-02 -5.39756732e-17j])"
      ]
     },
     "execution_count": 534,
     "metadata": {},
     "output_type": "execute_result"
    }
   ],
   "source": [
    "z"
   ]
  },
  {
   "cell_type": "code",
   "execution_count": 535,
   "metadata": {},
   "outputs": [],
   "source": [
    "xp = holographic_unmerge(z,y)"
   ]
  },
  {
   "cell_type": "code",
   "execution_count": 536,
   "metadata": {},
   "outputs": [
    {
     "data": {
      "text/plain": [
       "array([ 0.48210687,  0.10777446,  0.        ,  0.        ,  0.        ,\n",
       "        0.75439675,  0.        ,  0.        ,  0.        ,  0.        ])"
      ]
     },
     "execution_count": 536,
     "metadata": {},
     "output_type": "execute_result"
    }
   ],
   "source": [
    "x.real"
   ]
  },
  {
   "cell_type": "code",
   "execution_count": 537,
   "metadata": {
    "scrolled": true
   },
   "outputs": [
    {
     "data": {
      "text/plain": [
       "array([ 0.48210687,  0.10777446, -0.        ,  0.        , -0.        ,\n",
       "        0.75439675, -0.        , -0.        ,  0.        , -0.        ])"
      ]
     },
     "execution_count": 537,
     "metadata": {},
     "output_type": "execute_result"
    }
   ],
   "source": [
    "xp.real"
   ]
  },
  {
   "cell_type": "markdown",
   "metadata": {},
   "source": [
    "## WTF \n",
    "After fighting with too many issues wiht the previous implementations I've found that\n",
    "with Scipy there is somebody that managed to do it correctly\n",
    "https://stackoverflow.com/questions/17473917/is-there-a-equivalent-of-scipy-signal-deconvolve-for-2d-arrays"
   ]
  },
  {
   "cell_type": "code",
   "execution_count": 477,
   "metadata": {},
   "outputs": [
    {
     "data": {
      "image/png": "[encoded data removed]",
      "text/plain": [
       "<matplotlib.figure.Figure at 0x7fe1d9b90048>"
      ]
     },
     "metadata": {},
     "output_type": "display_data"
    }
   ],
   "source": [
    "#copied from:\n",
    "#https://stackoverflow.com/questions/17473917/is-there-a-equivalent-of-scipy-signal-deconvolve-for-2d-arrays\n",
    "\n",
    "from scipy import fftpack\n",
    "from scipy import stats\n",
    "\n",
    "sx, sy = 100, 100\n",
    "X, Y = np.ogrid[0:sx, 0:sy]\n",
    "star = stats.norm.pdf(np.sqrt((X - sx/2)**2 + (Y - sy/2)**2), 0, 4)\n",
    "psf = stats.norm.pdf(np.sqrt((X - sx/2)**2 + (Y - sy/2)**2), 0, 10)\n",
    "\n",
    "def convolve(star, psf):\n",
    "    star_fft = fftpack.fftshift(fftpack.fftn(star))\n",
    "    psf_fft = fftpack.fftshift(fftpack.fftn(psf))\n",
    "    return fftpack.fftshift(fftpack.ifftn(fftpack.ifftshift(star_fft*psf_fft)))\n",
    "\n",
    "def deconvolve(star, psf):\n",
    "    star_fft = fftpack.fftshift(fftpack.fftn(star))\n",
    "    psf_fft = fftpack.fftshift(fftpack.fftn(psf))\n",
    "    return fftpack.fftshift(fftpack.ifftn(fftpack.ifftshift(star_fft/psf_fft)))\n",
    "\n",
    "star_conv = convolve(star, psf)\n",
    "star_deconv = deconvolve(star_conv, psf)\n",
    "\n",
    "f, axes = plt.subplots(2,2)\n",
    "axes[0,0].imshow(star)\n",
    "axes[0,1].imshow(psf)\n",
    "axes[1,0].imshow(np.real(star_conv))\n",
    "axes[1,1].imshow(np.real(star_deconv))\n",
    "plt.show()"
   ]
  },
  {
   "cell_type": "code",
   "execution_count": 474,
   "metadata": {},
   "outputs": [],
   "source": [
    "z = convolve(x,y)"
   ]
  },
  {
   "cell_type": "code",
   "execution_count": 475,
   "metadata": {},
   "outputs": [],
   "source": [
    "xp = deconvolve(z,y)"
   ]
  },
  {
   "cell_type": "code",
   "execution_count": 481,
   "metadata": {},
   "outputs": [
    {
     "data": {
      "text/plain": [
       "array([[ 0.48210687,  0.10777446,  0.        , -0.        ,  0.        ,\n",
       "         0.75439675,  0.        , -0.        , -0.        ,  0.        ],\n",
       "       [ 0.48210687,  0.10777446,  0.        ,  0.        ,  0.        ,\n",
       "         0.75439675,  0.        ,  0.        ,  0.        ,  0.        ]])"
      ]
     },
     "execution_count": 481,
     "metadata": {},
     "output_type": "execute_result"
    }
   ],
   "source": [
    "np.around([xp.real, x.real], 15)"
   ]
  },
  {
   "cell_type": "code",
   "execution_count": 486,
   "metadata": {},
   "outputs": [],
   "source": [
    "yp = deconvolve(z,x)"
   ]
  },
  {
   "cell_type": "code",
   "execution_count": 487,
   "metadata": {},
   "outputs": [
    {
     "data": {
      "text/plain": [
       "array([[ 0.        ,  0.        ,  0.52064111,  0.60376688,  0.0274651 ,\n",
       "         0.        ,  0.79939001,  0.48002731,  0.        ,  0.        ],\n",
       "       [ 0.        ,  0.        ,  0.52064111,  0.60376688,  0.0274651 ,\n",
       "         0.        ,  0.79939001,  0.48002731, -0.        ,  0.        ]])"
      ]
     },
     "execution_count": 487,
     "metadata": {},
     "output_type": "execute_result"
    }
   ],
   "source": [
    "np.around([y.real,yp.real], 15)"
   ]
  },
  {
   "cell_type": "code",
   "execution_count": 549,
   "metadata": {},
   "outputs": [],
   "source": [
    "arr = np.array([i for i in range(10)])\n",
    "err = np.random.rand(10)"
   ]
  },
  {
   "cell_type": "code",
   "execution_count": 550,
   "metadata": {},
   "outputs": [
    {
     "data": {
      "text/plain": [
       "(array([0, 1, 2, 3, 4, 5, 6, 7, 8, 9]),\n",
       " array([ 0.69460719,  0.43128322,  0.83682332,  0.54839164,  0.28529032,\n",
       "         0.42427189,  0.73237276,  0.31930742,  0.49517406,  0.46726342]))"
      ]
     },
     "execution_count": 550,
     "metadata": {},
     "output_type": "execute_result"
    }
   ],
   "source": [
    "arr,err"
   ]
  },
  {
   "cell_type": "code",
   "execution_count": 551,
   "metadata": {},
   "outputs": [
    {
     "data": {
      "text/plain": [
       "array([5, 6, 7, 8, 9, 0, 1, 2, 3, 4])"
      ]
     },
     "execution_count": 551,
     "metadata": {},
     "output_type": "execute_result"
    }
   ],
   "source": [
    "fftpack.fftshift(arr)"
   ]
  },
  {
   "cell_type": "code",
   "execution_count": 541,
   "metadata": {},
   "outputs": [
    {
     "data": {
      "text/plain": [
       "array([5, 6, 7, 8, 9, 0, 1, 2, 3, 4])"
      ]
     },
     "execution_count": 541,
     "metadata": {},
     "output_type": "execute_result"
    }
   ],
   "source": [
    "fftpack.ifftshift(arr)"
   ]
  },
  {
   "cell_type": "code",
   "execution_count": 552,
   "metadata": {},
   "outputs": [
    {
     "data": {
      "text/plain": [
       "array([ 0.42427189,  0.73237276,  0.31930742,  0.49517406,  0.46726342,\n",
       "        0.69460719,  0.43128322,  0.83682332,  0.54839164,  0.28529032])"
      ]
     },
     "execution_count": 552,
     "metadata": {},
     "output_type": "execute_result"
    }
   ],
   "source": [
    "fftpack.fftshift(err)"
   ]
  },
  {
   "cell_type": "code",
   "execution_count": 553,
   "metadata": {},
   "outputs": [
    {
     "data": {
      "text/plain": [
       "array([ 0.42427189,  0.73237276,  0.31930742,  0.49517406,  0.46726342,\n",
       "        0.69460719,  0.43128322,  0.83682332,  0.54839164,  0.28529032])"
      ]
     },
     "execution_count": 553,
     "metadata": {},
     "output_type": "execute_result"
    }
   ],
   "source": [
    "fftpack.ifftshift(err)"
   ]
  },
  {
   "cell_type": "code",
   "execution_count": 554,
   "metadata": {},
   "outputs": [],
   "source": [
    "#well from this NON TRUSTED tests, seems that is only a rotation in the one dimensional case"
   ]
  },
  {
   "cell_type": "code",
   "execution_count": 558,
   "metadata": {},
   "outputs": [
    {
     "data": {
      "text/plain": [
       "(-5-12j)"
      ]
     },
     "execution_count": 558,
     "metadata": {},
     "output_type": "execute_result"
    }
   ],
   "source": [
    "(2-3j) * (2-3j)"
   ]
  },
  {
   "cell_type": "code",
   "execution_count": null,
   "metadata": {},
   "outputs": [],
   "source": []
  }
 ],
 "metadata": {
  "kernelspec": {
   "display_name": "Python 3",
   "language": "python",
   "name": "python3"
  },
  "language_info": {
   "codemirror_mode": {
    "name": "ipython",
    "version": 3
   },
   "file_extension": ".py",
   "mimetype": "text/x-python",
   "name": "python",
   "nbconvert_exporter": "python",
   "pygments_lexer": "ipython3",
   "version": "3.8.5"
  }
 },
 "nbformat": 4,
 "nbformat_minor": 4
}
