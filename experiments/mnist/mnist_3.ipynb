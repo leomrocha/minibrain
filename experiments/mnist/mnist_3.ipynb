{
 "cells": [
  {
   "cell_type": "markdown",
   "metadata": {},
   "source": [
    "# MNIST Experiments - Playing With Different Architectures\n",
    "\n",
    "Sometimes we need to come back to the basis, this is the place I choose for that.\n",
    "\n",
    "Here I'll experiment with different networks on the MNIST and MNIST variants datasets trying to find relations in which I can reduce the number of parameters in comparison with a Fully Connected (FC) network.\n",
    "\n",
    "Later on, I might try with other datasets that are small enough for my GTX1080.\n",
    "\n",
    "Yes, I know, the issue is already solved for Images with Convolutional Networks but what I want to see is not that. Instead I want to understand ways in which fully connected networks can be replaced by other types of connections to minimize the number of parameters in it. This is an exploratory work to get a deeper understanding on Neural Networks (NNs) that will at least give me some fun time.\n",
    "\n"
   ]
  },
  {
   "cell_type": "markdown",
   "metadata": {},
   "source": [
    "## SparseNet"
   ]
  },
  {
   "cell_type": "code",
   "execution_count": 1,
   "metadata": {},
   "outputs": [],
   "source": [
    "import torch\n",
    "import torch.nn as nn\n",
    "import torch.nn.functional as F\n",
    "import torch.optim as optim\n",
    "from torchvision import datasets, transforms"
   ]
  },
  {
   "cell_type": "code",
   "execution_count": 2,
   "metadata": {},
   "outputs": [],
   "source": [
    "import matplotlib.pyplot as plt\n",
    "\n",
    "%matplotlib inline"
   ]
  },
  {
   "cell_type": "code",
   "execution_count": 3,
   "metadata": {},
   "outputs": [],
   "source": [
    "# Network modules  to try\n",
    "from network_modules import *\n",
    "from net_utils import *"
   ]
  },
  {
   "cell_type": "code",
   "execution_count": 4,
   "metadata": {},
   "outputs": [],
   "source": [
    "device = torch.device(\"cuda\" if torch.cuda.is_available() else \"cpu\")"
   ]
  },
  {
   "cell_type": "code",
   "execution_count": 5,
   "metadata": {},
   "outputs": [],
   "source": [
    "def transform_mnist():\n",
    "    return transforms.Compose([\n",
    "#         transforms.Grayscale(),\n",
    "#         transforms.Resize((w, h)),  # this should be used ONLY if the image is bigger than this size\n",
    "        transforms.ToTensor()\n",
    "#         transforms.Normalize(0.5, 0.25)\n",
    "    ])"
   ]
  },
  {
   "cell_type": "code",
   "execution_count": 6,
   "metadata": {},
   "outputs": [],
   "source": [
    "\n",
    "def train(model, mname, device=torch.device(\"cuda\" if torch.cuda.is_available() else \"cpu\")):\n",
    "\n",
    "    model.to(device)\n",
    "    num_epochs = 100\n",
    "    batch_size = 128\n",
    "#     learning_rate = 0.0001\n",
    "    learning_rate = 0.001\n",
    "#     criterion = nn.CrossEntropyLoss()\n",
    "#     optimizer = optim.SGD(net.parameters(), lr=learning_rate, momentum=0.9)\n",
    "\n",
    "#     criterion = nn.MSELoss()\n",
    "    criterion = F.nll_loss\n",
    "    optimizer = torch.optim.Adam(model.parameters(), lr=learning_rate, weight_decay=1e-5)\n",
    "\n",
    "    transformation = transform_mnist()\n",
    "    train_loader, test_loader = get_loaders(batch_size, transformation)\n",
    "\n",
    "\n",
    "    for epoch in range(num_epochs):\n",
    "        for i, (img, labels) in enumerate(train_loader):\n",
    "#             print(\"shape: \", img.shape, labels.shape)\n",
    "            labels = labels.to(device)\n",
    "            img = img.to(device).view((-1,784))\n",
    "            \n",
    "#             print(\"shape2: \", img.shape)\n",
    "            # ===================forward=====================\n",
    "            #         print(\"encoding batch of  images\")\n",
    "            output = model(img)\n",
    "#             print(\"output shape: \", output.shape, labels.shape, labels[:10])\n",
    "            #         print(\"computing loss\")\n",
    "            loss = criterion(output, labels)\n",
    "            # ===================backward====================\n",
    "            #         print(\"Backward \")\n",
    "            optimizer.zero_grad()\n",
    "            loss.backward()\n",
    "            optimizer.step()\n",
    "        # ===================log========================\n",
    "        if epoch % 20 == 0:\n",
    "            print('epoch [{}/{}], loss:{:.6f}'.format(epoch+1, num_epochs, loss.data))\n",
    "#         if epoch % 10 == 0:\n",
    "#             pic = to_img(output.cpu().data)\n",
    "#             in_pic = to_img(img.cpu().data)\n",
    "#             save_image(pic, './results/2x2-out_image_{}.png'.format(epoch))\n",
    "#             save_image(in_pic, './results/2x2-in_image_{}.png'.format(epoch))\n",
    "#         if loss.data[0] < 0.015: #arbitrary number because I saw that it works well enough\n",
    "#             print(\"loss < 0.015, breaking\")\n",
    "#             break\n",
    "#     model.save_model(mname, \"model\")\n",
    "\n",
    "    print('########################################################')\n",
    "    print('Final performance of model {} epoch [{}/{}], loss:{:.8f}'.format(mname, epoch+1, num_epochs, loss.data))\n",
    "    print('--------------------------------------------------------')\n"
   ]
  },
  {
   "cell_type": "code",
   "execution_count": 7,
   "metadata": {},
   "outputs": [],
   "source": [
    "activations = [\n",
    "    \"relu\",\n",
    "    \"relu6\",\n",
    "    \"sigmoid\",\n",
    "    \"elu\",\n",
    "    \"leaky_relu\",\n",
    "    \"logsigmoid\",\n",
    "    ]"
   ]
  },
  {
   "cell_type": "code",
   "execution_count": 8,
   "metadata": {},
   "outputs": [],
   "source": [
    "fcnets_layers = [\n",
    "        [784,500,10],\n",
    "        [784,1000,10],\n",
    "        [784,1500,10],\n",
    "        [784,500,500,10],\n",
    "        [784,1000,500,10],\n",
    "        [784,1000,1000,10],\n",
    "        [784,500,500,500,10],\n",
    "        [784,1000,500,500,10],\n",
    "        [784,1000,1000,500,10],\n",
    "        [784,1000,1000,1000,10],\n",
    "]\n",
    "\n",
    "sparsities = [0.9, 0.8, 0.7, 0.6]  # , 0.5, 0.4, 0.3, 0.2, 0.1]  # [0.9, 0.8, 0.7, 0.6, 0.5, 0.4, 0.3, 0.2, 0.1]"
   ]
  },
  {
   "cell_type": "code",
   "execution_count": 9,
   "metadata": {},
   "outputs": [],
   "source": [
    "\n",
    "models = []\n",
    "for l in fcnets_layers:\n",
    "    for s in sparsities:\n",
    "#         for a in activations:\n",
    "        for a in [\"relu\"]:\n",
    "            mname = str(l)+\"_\"+str(s)+\"_\"+a\n",
    "            models.append(SparseNet(l, sparsity=s, activation=a, name=mname) )"
   ]
  },
  {
   "cell_type": "code",
   "execution_count": 10,
   "metadata": {},
   "outputs": [
    {
     "data": {
      "text/plain": [
       "40"
      ]
     },
     "execution_count": 10,
     "metadata": {},
     "output_type": "execute_result"
    }
   ],
   "source": [
    "len(models)"
   ]
  },
  {
   "cell_type": "code",
   "execution_count": null,
   "metadata": {},
   "outputs": [
    {
     "name": "stdout",
     "output_type": "stream",
     "text": [
      "epoch [1/100], loss:-20891.966797\n",
      "epoch [21/100], loss:-6133424.000000\n",
      "epoch [41/100], loss:-19577186.000000\n",
      "epoch [61/100], loss:-41361500.000000\n",
      "epoch [81/100], loss:-73920136.000000\n",
      "########################################################\n",
      "Final performance of model [784, 500, 10]_0.9_relu epoch [100/100], loss:-113872960.00000000\n",
      "--------------------------------------------------------\n",
      "epoch [1/100], loss:-18592.039062\n",
      "epoch [21/100], loss:-5453422.500000\n",
      "epoch [41/100], loss:-18066410.000000\n",
      "epoch [61/100], loss:-38785812.000000\n",
      "epoch [81/100], loss:-65402916.000000\n",
      "########################################################\n",
      "Final performance of model [784, 500, 10]_0.8_relu epoch [100/100], loss:-99117352.00000000\n",
      "--------------------------------------------------------\n",
      "epoch [1/100], loss:-16703.435547\n",
      "epoch [21/100], loss:-5007824.000000\n",
      "epoch [41/100], loss:-17129934.000000\n",
      "epoch [61/100], loss:-37054696.000000\n",
      "epoch [81/100], loss:-56878508.000000\n",
      "########################################################\n",
      "Final performance of model [784, 500, 10]_0.7_relu epoch [100/100], loss:-91349248.00000000\n",
      "--------------------------------------------------------\n",
      "epoch [1/100], loss:-15320.723633\n",
      "epoch [21/100], loss:-4618579.000000\n",
      "epoch [41/100], loss:-15034589.000000\n",
      "epoch [61/100], loss:-30653106.000000\n",
      "epoch [81/100], loss:-54229072.000000\n",
      "########################################################\n",
      "Final performance of model [784, 500, 10]_0.6_relu epoch [100/100], loss:-76519448.00000000\n",
      "--------------------------------------------------------\n",
      "epoch [1/100], loss:-44628.816406\n",
      "epoch [21/100], loss:-12222195.000000\n",
      "epoch [41/100], loss:-41137748.000000\n",
      "epoch [61/100], loss:-88938472.000000\n",
      "epoch [81/100], loss:-150824304.000000\n",
      "########################################################\n",
      "Final performance of model [784, 1000, 10]_0.9_relu epoch [100/100], loss:-221163344.00000000\n",
      "--------------------------------------------------------\n",
      "epoch [1/100], loss:-37582.246094\n",
      "epoch [21/100], loss:-10890504.000000\n",
      "epoch [41/100], loss:-36614332.000000\n",
      "epoch [61/100], loss:-78083320.000000\n",
      "epoch [81/100], loss:-139106496.000000\n",
      "########################################################\n",
      "Final performance of model [784, 1000, 10]_0.8_relu epoch [100/100], loss:-202615760.00000000\n",
      "--------------------------------------------------------\n",
      "epoch [1/100], loss:-33153.589844\n",
      "epoch [21/100], loss:-10460612.000000\n",
      "epoch [41/100], loss:-32208406.000000\n",
      "epoch [61/100], loss:-68113896.000000\n",
      "epoch [81/100], loss:-112439144.000000\n",
      "########################################################\n",
      "Final performance of model [784, 1000, 10]_0.7_relu epoch [100/100], loss:-172079392.00000000\n",
      "--------------------------------------------------------\n",
      "epoch [1/100], loss:-26603.984375\n",
      "epoch [21/100], loss:-8168572.000000\n",
      "epoch [41/100], loss:-26347406.000000\n",
      "epoch [61/100], loss:-53424112.000000\n"
     ]
    }
   ],
   "source": [
    "for i in range(len(fcnets_layers)):\n",
    "    model = models[i]\n",
    "    mname = model.name\n",
    "    train(model, mname)\n",
    "    "
   ]
  },
  {
   "cell_type": "code",
   "execution_count": null,
   "metadata": {},
   "outputs": [],
   "source": [
    "for i in range(len(fcnets_layers)):\n",
    "    model = models[i]\n",
    "    mname = model.name\n",
    "    train(model, mname)\n",
    "    "
   ]
  },
  {
   "cell_type": "code",
   "execution_count": null,
   "metadata": {},
   "outputs": [],
   "source": []
  },
  {
   "cell_type": "code",
   "execution_count": null,
   "metadata": {},
   "outputs": [],
   "source": []
  }
 ],
 "metadata": {
  "kernelspec": {
   "display_name": "Python 3",
   "language": "python",
   "name": "python3"
  },
  "language_info": {
   "codemirror_mode": {
    "name": "ipython",
    "version": 3
   },
   "file_extension": ".py",
   "mimetype": "text/x-python",
   "name": "python",
   "nbconvert_exporter": "python",
   "pygments_lexer": "ipython3",
   "version": "3.8.5"
  }
 },
 "nbformat": 4,
 "nbformat_minor": 4
}
