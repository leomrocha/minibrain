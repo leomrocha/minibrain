{
 "cells": [
  {
   "cell_type": "markdown",
   "metadata": {},
   "source": [
    "[Leo's Home page](https://leomrocha.github.com) -- [Github Page](https://github.com/leomrocha/minibrain/tree/master/experiments/mnist) -- License: [CC BY-SA 4.0](https://creativecommons.org/licenses/by-sa/4.0/)\n"
   ]
  },
  {
   "cell_type": "markdown",
   "metadata": {},
   "source": [
    "# MNIST Experiments - Playing With Different Architectures"
   ]
  },
  {
   "cell_type": "markdown",
   "metadata": {},
   "source": [
    "[Leonardo M. Rocha](https://leomrocha.github.com)\n",
    "\n",
    "[Contact Me](https://leomrocha.github.io/contact/)"
   ]
  },
  {
   "cell_type": "markdown",
   "metadata": {},
   "source": [
    "Sometimes we need to come back to the basis, this is the place I choose for that.\n",
    "\n",
    "Here I'll experiment with different networks on the MNIST and MNIST variants datasets trying to find relations in which I can reduce the number of parameters in comparison with a Fully Connected (FC) network.\n",
    "\n",
    "Later on, I might try with other datasets that are small enough for my GTX1080.\n",
    "\n",
    "Yes, I know, the issue is already solved for Images with Convolutional Networks but what I want to see is not that. Instead I want to understand ways in which fully connected networks can be replaced by other types of connections to minimize the number of parameters in it. This is an exploratory work to get a deeper understanding on Neural Networks (NNs) that will at least give me some fun time."
   ]
  },
  {
   "cell_type": "markdown",
   "metadata": {},
   "source": [
    "## Index\n",
    "\n",
    "#### Datasets to use:\n",
    "* MNIST\n",
    "* ... ??? (later might update this)\n",
    "\n",
    "#### Experiments I intend to run:\n",
    "- Fully Connected Network\n",
    "- Convolutional with late FC layer for clasification\n",
    "- Randomly Connected Network (Sparse)\n",
    "- Parallel Smaller Fully Connected Networks with a late merge for clasification (several \"columns\" instead of one big fully connected)\n",
    "    * Only continuous subsets of elements\n",
    "    * Playing with reordering the elements in the input\n",
    "Structurally Connected Networks (Different Structures will be used, is a follow up of the parallel)\n",
    "\n",
    "\n",
    "#### KPIs I intend to measure:\n",
    "- Number of Parameters\n",
    "- Performance ( Accuracy, Errors, ... )\n",
    "- Training Time\n",
    "- Evaluation Time\n",
    "\n",
    "Although training and evaluation time \n",
    "\n",
    "#### Things I would like to analyse later:\n",
    "* Kind of Errors\n",
    "* \n",
    "\n",
    "\n"
   ]
  },
  {
   "cell_type": "code",
   "execution_count": 1,
   "metadata": {},
   "outputs": [],
   "source": [
    "import torch\n",
    "import torch.nn as nn\n",
    "import torch.nn.functional as F\n",
    "import torch.optim as optim\n",
    "from torchvision import datasets, transforms"
   ]
  },
  {
   "cell_type": "code",
   "execution_count": 2,
   "metadata": {},
   "outputs": [],
   "source": [
    "import matplotlib.pyplot as plt\n",
    "\n",
    "%matplotlib inline"
   ]
  },
  {
   "cell_type": "code",
   "execution_count": 3,
   "metadata": {},
   "outputs": [],
   "source": [
    "# Network modules  to try\n",
    "from network_modules import *\n",
    "from net_utils import *"
   ]
  },
  {
   "cell_type": "code",
   "execution_count": 4,
   "metadata": {},
   "outputs": [],
   "source": [
    "device = torch.device(\"cuda\" if torch.cuda.is_available() else \"cpu\")"
   ]
  },
  {
   "cell_type": "code",
   "execution_count": 5,
   "metadata": {},
   "outputs": [],
   "source": [
    "\n",
    "def transform_mnist():\n",
    "    return transforms.Compose([\n",
    "#         transforms.Grayscale(),\n",
    "#         transforms.Resize((w, h)),  # this should be used ONLY if the image is bigger than this size\n",
    "        transforms.ToTensor()\n",
    "#         transforms.Normalize(0.5, 0.25)\n",
    "    ])\n",
    "# Datasets:\n",
    "mnist_trainset = datasets.MNIST(root='./data', train=True, download=True, transform=transform_mnist())\n",
    "mnist_testset = datasets.MNIST(root='./data', train=False, download=True, transform=transform_mnist())\n"
   ]
  },
  {
   "cell_type": "markdown",
   "metadata": {},
   "source": [
    "## Fully Connected "
   ]
  },
  {
   "cell_type": "code",
   "execution_count": 6,
   "metadata": {},
   "outputs": [
    {
     "data": {
      "text/plain": [
       "tensor([[1., 0., 0., 1., 1., 1., 0., 0., 1., 0., 0., 1., 0., 1.],\n",
       "        [1., 0., 0., 0., 0., 0., 0., 1., 0., 0., 0., 0., 0., 1.],\n",
       "        [0., 0., 0., 0., 1., 1., 0., 0., 1., 0., 1., 0., 1., 0.],\n",
       "        [1., 0., 0., 1., 1., 1., 1., 0., 1., 0., 0., 0., 0., 0.],\n",
       "        [1., 0., 0., 0., 0., 1., 1., 0., 1., 1., 0., 0., 0., 1.],\n",
       "        [1., 0., 0., 0., 1., 0., 1., 0., 0., 1., 0., 0., 0., 0.],\n",
       "        [0., 1., 0., 1., 0., 0., 1., 1., 1., 0., 0., 1., 1., 1.],\n",
       "        [1., 0., 0., 1., 1., 0., 0., 1., 1., 1., 0., 0., 0., 1.],\n",
       "        [1., 1., 1., 0., 0., 0., 1., 0., 1., 0., 0., 0., 0., 0.],\n",
       "        [1., 1., 0., 0., 0., 1., 0., 1., 1., 1., 0., 1., 0., 1.]])"
      ]
     },
     "execution_count": 6,
     "metadata": {},
     "output_type": "execute_result"
    }
   ],
   "source": [
    "# something like this will be used to create the sparsity masks ... only that the sparsity distributions should be chosen before\n",
    "torch.bernoulli(torch.rand(10, 14)).expand(10, 14).clone() \n"
   ]
  },
  {
   "cell_type": "code",
   "execution_count": 7,
   "metadata": {},
   "outputs": [],
   "source": [
    "img0, lbl0 = mnist_trainset[0]"
   ]
  },
  {
   "cell_type": "code",
   "execution_count": 8,
   "metadata": {},
   "outputs": [],
   "source": [
    "# lbl0.tolist()"
   ]
  },
  {
   "cell_type": "code",
   "execution_count": 9,
   "metadata": {},
   "outputs": [
    {
     "data": {
      "text/plain": [
       "torch.Size([1, 28, 28])"
      ]
     },
     "execution_count": 9,
     "metadata": {},
     "output_type": "execute_result"
    }
   ],
   "source": [
    "img0.shape"
   ]
  },
  {
   "cell_type": "code",
   "execution_count": 10,
   "metadata": {},
   "outputs": [
    {
     "data": {
      "text/plain": [
       "<matplotlib.image.AxesImage at 0x7f7ab8367d60>"
      ]
     },
     "execution_count": 10,
     "metadata": {},
     "output_type": "execute_result"
    },
    {
     "data": {
      "image/png": "[encoded data removed]",
      "text/plain": [
       "<Figure size 432x288 with 1 Axes>"
      ]
     },
     "metadata": {
      "needs_background": "light"
     },
     "output_type": "display_data"
    }
   ],
   "source": [
    "plt.imshow(img0.squeeze())"
   ]
  },
  {
   "cell_type": "code",
   "execution_count": 11,
   "metadata": {},
   "outputs": [],
   "source": [
    "\n",
    "def train(model, mname, device=torch.device(\"cuda\" if torch.cuda.is_available() else \"cpu\")):\n",
    "\n",
    "    model.to(device)\n",
    "    num_epochs = 100\n",
    "    batch_size = 128\n",
    "#     learning_rate = 0.0001\n",
    "    learning_rate = 0.001\n",
    "#     criterion = nn.CrossEntropyLoss()\n",
    "#     optimizer = optim.SGD(net.parameters(), lr=learning_rate, momentum=0.9)\n",
    "\n",
    "#     criterion = nn.MSELoss()\n",
    "    criterion = F.nll_loss\n",
    "    optimizer = torch.optim.Adam(model.parameters(), lr=learning_rate, weight_decay=1e-5)\n",
    "\n",
    "    transformation = transform_mnist()\n",
    "    train_loader, test_loader = get_loaders(batch_size, transformation)\n",
    "\n",
    "\n",
    "    for epoch in range(num_epochs):\n",
    "        for i, (img, labels) in enumerate(train_loader):\n",
    "#             print(\"shape: \", img.shape, labels.shape)\n",
    "            labels = labels.to(device)\n",
    "            img = img.to(device).view((-1,784))\n",
    "            \n",
    "#             print(\"shape2: \", img.shape)\n",
    "            # ===================forward=====================\n",
    "            #         print(\"encoding batch of  images\")\n",
    "            output = model(img)\n",
    "#             print(\"output shape: \", output.shape, labels.shape, labels[:10])\n",
    "            #         print(\"computing loss\")\n",
    "            loss = criterion(output, labels)\n",
    "            # ===================backward====================\n",
    "            #         print(\"Backward \")\n",
    "            optimizer.zero_grad()\n",
    "            loss.backward()\n",
    "            optimizer.step()\n",
    "        # ===================log========================\n",
    "        if epoch % 20 == 0:\n",
    "            print('epoch [{}/{}], loss:{:.6f}'.format(epoch+1, num_epochs, loss.data))\n",
    "#         if epoch % 10 == 0:\n",
    "#             pic = to_img(output.cpu().data)\n",
    "#             in_pic = to_img(img.cpu().data)\n",
    "#             save_image(pic, './results/2x2-out_image_{}.png'.format(epoch))\n",
    "#             save_image(in_pic, './results/2x2-in_image_{}.png'.format(epoch))\n",
    "#         if loss.data[0] < 0.015: #arbitrary number because I saw that it works well enough\n",
    "#             print(\"loss < 0.015, breaking\")\n",
    "#             break\n",
    "#     model.save_model(mname, \"model\")\n",
    "\n",
    "    print('########################################################')\n",
    "    print('Final performance of model {} epoch [{}/{}], loss:{:.8f}'.format(mname, epoch+1, num_epochs, loss.data))\n",
    "    print('--------------------------------------------------------')\n"
   ]
  },
  {
   "cell_type": "code",
   "execution_count": 12,
   "metadata": {},
   "outputs": [],
   "source": [
    "fcnets_layers = [\n",
    "        [784,500,10],\n",
    "        [784,1000,10],\n",
    "        [784,1500,10],\n",
    "        [784,500,500,10],\n",
    "        [784,1000,500,10],\n",
    "        [784,1000,1000,10],\n",
    "        [784,500,500,500,10],\n",
    "        [784,1000,500,500,10],\n",
    "        [784,1000,1000,500,10],\n",
    "        [784,1000,1000,1000,10],\n",
    "]"
   ]
  },
  {
   "cell_type": "code",
   "execution_count": 13,
   "metadata": {},
   "outputs": [],
   "source": [
    "model1 = FCNet(fcnets_layers[0], \"relu\")"
   ]
  },
  {
   "cell_type": "code",
   "execution_count": 14,
   "metadata": {},
   "outputs": [],
   "source": [
    "models = [ FCNet(l, \"relu\") for l in fcnets_layers]"
   ]
  },
  {
   "cell_type": "code",
   "execution_count": 15,
   "metadata": {},
   "outputs": [
    {
     "data": {
      "text/plain": [
       "FCNet(\n",
       "  (fcnet): FCModule(\n",
       "    (layers): ModuleList(\n",
       "      (0): Linear(in_features=784, out_features=500, bias=True)\n",
       "      (1): Linear(in_features=500, out_features=10, bias=True)\n",
       "    )\n",
       "  )\n",
       ")"
      ]
     },
     "execution_count": 15,
     "metadata": {},
     "output_type": "execute_result"
    }
   ],
   "source": [
    "model1"
   ]
  },
  {
   "cell_type": "code",
   "execution_count": 16,
   "metadata": {},
   "outputs": [
    {
     "name": "stdout",
     "output_type": "stream",
     "text": [
      "epoch [1/100], loss:0.174584\n",
      "epoch [21/100], loss:0.009200\n",
      "epoch [41/100], loss:0.000172\n",
      "epoch [61/100], loss:0.001544\n",
      "epoch [81/100], loss:0.012820\n",
      "########################################################\n",
      "Final performance of model [784, 500, 10] epoch [100/100], loss:0.00139014\n",
      "--------------------------------------------------------\n",
      "epoch [1/100], loss:0.157315\n",
      "epoch [21/100], loss:0.007848\n",
      "epoch [41/100], loss:0.000401\n",
      "epoch [61/100], loss:0.000455\n",
      "epoch [81/100], loss:0.000409\n",
      "########################################################\n",
      "Final performance of model [784, 1000, 10] epoch [100/100], loss:0.00037554\n",
      "--------------------------------------------------------\n",
      "epoch [1/100], loss:0.135338\n",
      "epoch [21/100], loss:0.001302\n",
      "epoch [41/100], loss:0.009797\n",
      "epoch [61/100], loss:0.010531\n",
      "epoch [81/100], loss:0.005287\n",
      "########################################################\n",
      "Final performance of model [784, 1500, 10] epoch [100/100], loss:0.00096606\n",
      "--------------------------------------------------------\n",
      "epoch [1/100], loss:0.060347\n",
      "epoch [21/100], loss:0.005659\n",
      "epoch [41/100], loss:0.000409\n",
      "epoch [61/100], loss:0.002260\n",
      "epoch [81/100], loss:0.000005\n",
      "########################################################\n",
      "Final performance of model [784, 500, 500, 10] epoch [100/100], loss:0.00005414\n",
      "--------------------------------------------------------\n",
      "epoch [1/100], loss:0.106350\n",
      "epoch [21/100], loss:0.001355\n",
      "epoch [41/100], loss:0.034748\n",
      "epoch [61/100], loss:0.001284\n",
      "epoch [81/100], loss:0.000321\n",
      "########################################################\n",
      "Final performance of model [784, 1000, 500, 10] epoch [100/100], loss:0.00028331\n",
      "--------------------------------------------------------\n",
      "epoch [1/100], loss:0.255634\n",
      "epoch [21/100], loss:0.000093\n",
      "epoch [41/100], loss:0.000121\n",
      "epoch [61/100], loss:0.000139\n",
      "epoch [81/100], loss:0.000041\n",
      "########################################################\n",
      "Final performance of model [784, 1000, 1000, 10] epoch [100/100], loss:0.00031134\n",
      "--------------------------------------------------------\n",
      "epoch [1/100], loss:0.146664\n",
      "epoch [21/100], loss:0.001849\n",
      "epoch [41/100], loss:0.011287\n",
      "epoch [61/100], loss:0.000064\n",
      "epoch [81/100], loss:0.000249\n",
      "########################################################\n",
      "Final performance of model [784, 500, 500, 500, 10] epoch [100/100], loss:0.00001985\n",
      "--------------------------------------------------------\n",
      "epoch [1/100], loss:0.096296\n",
      "epoch [21/100], loss:0.000183\n",
      "epoch [41/100], loss:0.015776\n",
      "epoch [61/100], loss:0.000026\n",
      "epoch [81/100], loss:0.000497\n",
      "########################################################\n",
      "Final performance of model [784, 1000, 500, 500, 10] epoch [100/100], loss:0.00003355\n",
      "--------------------------------------------------------\n",
      "epoch [1/100], loss:0.173830\n",
      "epoch [21/100], loss:0.020729\n",
      "epoch [41/100], loss:0.000395\n",
      "epoch [61/100], loss:0.001489\n",
      "epoch [81/100], loss:0.075340\n",
      "########################################################\n",
      "Final performance of model [784, 1000, 1000, 500, 10] epoch [100/100], loss:0.00001235\n",
      "--------------------------------------------------------\n",
      "epoch [1/100], loss:0.106391\n",
      "epoch [21/100], loss:0.003898\n",
      "epoch [41/100], loss:0.010115\n",
      "epoch [61/100], loss:0.044211\n",
      "epoch [81/100], loss:0.056438\n",
      "########################################################\n",
      "Final performance of model [784, 1000, 1000, 1000, 10] epoch [100/100], loss:0.00018007\n",
      "--------------------------------------------------------\n",
      "CPU times: user 24min 17s, sys: 2min 20s, total: 26min 37s\n",
      "Wall time: 1h 26min 52s\n"
     ]
    }
   ],
   "source": [
    "%%time\n",
    "for i in range(len(fcnets_layers)):\n",
    "    mname = str(fcnets_layers[i])\n",
    "    model = models[i]\n",
    "    train(model, mname)\n",
    "    "
   ]
  },
  {
   "cell_type": "markdown",
   "metadata": {},
   "source": []
  }
 ],
 "metadata": {
  "kernelspec": {
   "display_name": "Python 3",
   "language": "python",
   "name": "python3"
  },
  "language_info": {
   "codemirror_mode": {
    "name": "ipython",
    "version": 3
   },
   "file_extension": ".py",
   "mimetype": "text/x-python",
   "name": "python",
   "nbconvert_exporter": "python",
   "pygments_lexer": "ipython3",
   "version": "3.8.5"
  }
 },
 "nbformat": 4,
 "nbformat_minor": 4
}
