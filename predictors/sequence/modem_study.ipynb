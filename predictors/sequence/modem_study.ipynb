{
 "cells": [
  {
   "cell_type": "markdown",
   "metadata": {},
   "source": [
    "# Simplified Sinusoidal encodings\n",
    "\n",
    "What if I'm complicating my life too much with the desire of making a linear decoding and I should directly do with sinusoidals?\n",
    "\n",
    "For each time scale I can directly do an INT division, get only the reminder and use that, I can do a few sin/cos phased elements and this should be enough to reconstruct the initial signal .... lets see"
   ]
  },
  {
   "cell_type": "code",
   "execution_count": 1,
   "metadata": {},
   "outputs": [],
   "source": [
    "import numpy as np"
   ]
  },
  {
   "cell_type": "code",
   "execution_count": 76,
   "metadata": {},
   "outputs": [],
   "source": [
    "hun = np.linspace(0,100, 101).astype(int)  # baseline\n"
   ]
  },
  {
   "cell_type": "markdown",
   "metadata": {},
   "source": [
    "Now for each scale I will allow only the values $$[0; 2* PI)$$"
   ]
  },
  {
   "cell_type": "code",
   "execution_count": 75,
   "metadata": {},
   "outputs": [
    {
     "data": {
      "text/plain": [
       "array([  0,   1,   2,   3,   4,   5,   6,   7,   8,   9,  10,  11,  12,\n",
       "        13,  14,  15,  16,  17,  18,  19,  20,  21,  22,  23,  24,  25,\n",
       "        26,  27,  28,  29,  30,  31,  32,  33,  34,  35,  36,  37,  38,\n",
       "        39,  40,  41,  42,  43,  44,  45,  46,  47,  48,  49,  50,  51,\n",
       "        52,  53,  54,  55,  56,  57,  58,  59,  60,  61,  62,  63,  64,\n",
       "        65,  66,  67,  68,  69,  70,  71,  72,  73,  74,  75,  76,  77,\n",
       "        78,  79,  80,  81,  82,  83,  84,  85,  86,  87,  88,  89,  90,\n",
       "        91,  92,  93,  94,  95,  96,  97,  98,  99, 100])"
      ]
     },
     "execution_count": 75,
     "metadata": {},
     "output_type": "execute_result"
    }
   ],
   "source": [
    "hun"
   ]
  },
  {
   "cell_type": "code",
   "execution_count": 126,
   "metadata": {},
   "outputs": [],
   "source": [
    "scales = 7  # 2**10 "
   ]
  },
  {
   "cell_type": "code",
   "execution_count": 127,
   "metadata": {},
   "outputs": [],
   "source": [
    "scaled = np.stack([ np.divide(hun, 2**i) for i in range(scales)])"
   ]
  },
  {
   "cell_type": "code",
   "execution_count": 132,
   "metadata": {},
   "outputs": [],
   "source": [
    "scaled2 = np.stack([ np.remainder(hun, 2**i) for i in range(scales)])"
   ]
  },
  {
   "cell_type": "code",
   "execution_count": 134,
   "metadata": {},
   "outputs": [],
   "source": [
    "scaled3 = np.stack([ np.pi * hun / 2**i for i in range(scales)])"
   ]
  },
  {
   "cell_type": "code",
   "execution_count": 139,
   "metadata": {},
   "outputs": [],
   "source": [
    "scaled4 = []\n",
    "for i in reversed(range(1, scaled3.shape[0])):\n",
    "    scaled4.append(scaled3[i]-scaled3[i-1])\n",
    "scaled4 = np.stack(scaled4)"
   ]
  },
  {
   "cell_type": "code",
   "execution_count": 142,
   "metadata": {},
   "outputs": [],
   "source": [
    "sincoded3 = np.sin(scaled3)\n",
    "sincoded4 = np.sin(scaled4)"
   ]
  },
  {
   "cell_type": "code",
   "execution_count": 143,
   "metadata": {},
   "outputs": [],
   "source": [
    "sindec3 = np.arcsin(sincoded3)\n",
    "sindec4 = np.arcsin(sincoded4)"
   ]
  },
  {
   "cell_type": "code",
   "execution_count": 144,
   "metadata": {},
   "outputs": [],
   "source": [
    "dec3 = []\n",
    "for i in range((sindec3.shape)[0]):\n",
    "    dec3.append(sindec3[i] * 2**i )\n",
    "\n",
    "dec4 = []\n",
    "for i in range((sindec4.shape)[0]):\n",
    "    dec4.append(sindec4[i] * 2**i )\n",
    "\n",
    "fdec3 = np.sum(dec3,axis=0).astype(int)\n",
    "fdec4 = np.sum(dec4,axis=0).astype(int)"
   ]
  },
  {
   "cell_type": "code",
   "execution_count": 145,
   "metadata": {},
   "outputs": [
    {
     "data": {
      "text/plain": [
       "array([   0,   18,   31,   37,   50,   56,   56,   62,   75,   81,   81,\n",
       "         75,   75,   81,   81,   87,  100,  106,  106,  100,  100,   94,\n",
       "         81,   75,   75,   81,   81,   75,   75,   81,   81,   87,  100,\n",
       "        106,  106,  100,  100,   94,   81,   75,   75,   69,   56,   37,\n",
       "         25,   18,    6,    0,    0,    6,    6,    0,    0,   -6,  -18,\n",
       "        -25,  -25,  -18,  -18,  -25,  -25,  -18,  -18,  -12,    0,   12,\n",
       "         18,   18,   25,   25,   18,   18,   25,   25,   18,    6,    0,\n",
       "          0,   -6,   -6,    0,    0,   -6,  -18,  -25,  -37,  -56,  -69,\n",
       "        -75,  -75,  -81,  -94, -100, -100, -106, -106, -100,  -87,  -81,\n",
       "        -81,  -75])"
      ]
     },
     "execution_count": 145,
     "metadata": {},
     "output_type": "execute_result"
    }
   ],
   "source": [
    "fdec3"
   ]
  },
  {
   "cell_type": "code",
   "execution_count": 146,
   "metadata": {},
   "outputs": [
    {
     "data": {
      "text/plain": [
       "array([  0, -67, -33,  25, -16, -52,  12,  52,  -8, -67, -26,  40,   6,\n",
       "       -33,  26,  61,  -3, -68, -33,  27, -12, -46,  20,  62,   3, -56,\n",
       "       -16,  48,  13, -27,  31,  65,  -1, -68, -34,  25, -16, -51,  14,\n",
       "        54,  -5, -64, -22,  44,  10, -29,  31,  67,   2, -62, -27,  32,\n",
       "        -7, -41,  25,  66,   7, -53, -13,  51,  16, -25,  33,  66,   0,\n",
       "       -66, -33,  25, -16, -51,  13,  53,  -7, -66, -25,  41,   7, -32,\n",
       "        27,  62,  -2, -67, -31,  29, -10, -44,  22,  64,   5, -54, -14,\n",
       "        51,  16, -25,  34,  68,   1, -65, -31,  27, -13])"
      ]
     },
     "execution_count": 146,
     "metadata": {},
     "output_type": "execute_result"
    }
   ],
   "source": [
    "fdec4"
   ]
  },
  {
   "cell_type": "code",
   "execution_count": 129,
   "metadata": {},
   "outputs": [
    {
     "data": {
      "text/plain": [
       "(7, 101)"
      ]
     },
     "execution_count": 129,
     "metadata": {},
     "output_type": "execute_result"
    }
   ],
   "source": [
    "scaled.shape"
   ]
  },
  {
   "cell_type": "code",
   "execution_count": 130,
   "metadata": {},
   "outputs": [
    {
     "data": {
      "text/plain": [
       "[1, 2, 4, 8, 16, 32, 64]"
      ]
     },
     "execution_count": 130,
     "metadata": {},
     "output_type": "execute_result"
    }
   ],
   "source": [
    "[2**i for i in range(scales)]"
   ]
  },
  {
   "cell_type": "code",
   "execution_count": 112,
   "metadata": {},
   "outputs": [],
   "source": [
    "sincoded = np.sin(scaled)"
   ]
  },
  {
   "cell_type": "code",
   "execution_count": 113,
   "metadata": {},
   "outputs": [
    {
     "data": {
      "text/plain": [
       "array([[ 0.        ,  0.84147098,  0.90929743, ..., -0.57338187,\n",
       "        -0.99920683, -0.50636564],\n",
       "       [ 0.        ,  0.47942554,  0.84147098, ..., -0.95375265,\n",
       "        -0.69288495, -0.26237485],\n",
       "       [ 0.        ,  0.24740396,  0.47942554, ..., -0.59135753,\n",
       "        -0.37346475, -0.13235175],\n",
       "       ...,\n",
       "       [ 0.        ,  0.00781242,  0.01562436, ...,  0.69298773,\n",
       "         0.69859894,  0.70416751],\n",
       "       [ 0.        ,  0.00390624,  0.00781242, ...,  0.37353087,\n",
       "         0.37715152,  0.38076641],\n",
       "       [ 0.        ,  0.00195312,  0.00390624, ...,  0.19023965,\n",
       "         0.19215674,  0.1940731 ]])"
      ]
     },
     "execution_count": 113,
     "metadata": {},
     "output_type": "execute_result"
    }
   ],
   "source": [
    "sincoded"
   ]
  },
  {
   "cell_type": "code",
   "execution_count": 114,
   "metadata": {},
   "outputs": [],
   "source": [
    "sindec = np.arcsin(sincoded)"
   ]
  },
  {
   "cell_type": "code",
   "execution_count": 115,
   "metadata": {},
   "outputs": [
    {
     "data": {
      "text/plain": [
       "array([[ 0.        ,  1.        ,  1.14159265, ..., -0.61062774,\n",
       "        -1.53096491, -0.53096491],\n",
       "       [ 0.        ,  0.5       ,  1.        , ..., -1.26548246,\n",
       "        -0.76548246, -0.26548246],\n",
       "       [ 0.        ,  0.25      ,  0.5       , ..., -0.63274123,\n",
       "        -0.38274123, -0.13274123],\n",
       "       ...,\n",
       "       [ 0.        ,  0.0078125 ,  0.015625  , ...,  0.765625  ,\n",
       "         0.7734375 ,  0.78125   ],\n",
       "       [ 0.        ,  0.00390625,  0.0078125 , ...,  0.3828125 ,\n",
       "         0.38671875,  0.390625  ],\n",
       "       [ 0.        ,  0.00195312,  0.00390625, ...,  0.19140625,\n",
       "         0.19335938,  0.1953125 ]])"
      ]
     },
     "execution_count": 115,
     "metadata": {},
     "output_type": "execute_result"
    }
   ],
   "source": [
    "sindec"
   ]
  },
  {
   "cell_type": "code",
   "execution_count": 117,
   "metadata": {},
   "outputs": [
    {
     "data": {
      "text/plain": [
       "[0, 1, 2, 3, 4, 5, 6, 7, 8, 9]"
      ]
     },
     "execution_count": 117,
     "metadata": {},
     "output_type": "execute_result"
    }
   ],
   "source": [
    "list(range((sindec.shape)[0]))"
   ]
  },
  {
   "cell_type": "code",
   "execution_count": 118,
   "metadata": {},
   "outputs": [],
   "source": [
    "dec = []\n",
    "for i in range((sindec.shape)[0]):\n",
    "    dec.append(sindec[i] * 2**i )\n",
    "\n",
    "dec = np.stack(dec)"
   ]
  },
  {
   "cell_type": "code",
   "execution_count": 119,
   "metadata": {},
   "outputs": [
    {
     "data": {
      "text/plain": [
       "array([  0,  10,  19,  27,  33,  40,  48,  54,  60,  64,  69,  75,  83,\n",
       "        90,  96, 100, 104, 106, 109, 114, 120, 124, 128, 134, 141, 149,\n",
       "       156, 161, 165, 167, 170, 174, 177, 179, 179, 179, 181, 185, 190,\n",
       "       196, 200, 204, 206, 209, 213, 219, 224, 228, 234, 241, 249, 255,\n",
       "       261, 265, 268, 270, 274, 277, 279, 279, 280, 282, 285, 289, 291,\n",
       "       292, 292, 290, 289, 289, 290, 292, 292, 293, 296, 300, 305, 311,\n",
       "       315, 318, 320, 324, 327, 329, 329, 330, 332, 335, 339, 345, 350,\n",
       "       354, 356, 359, 363, 368, 374, 378, 383, 389, 397])"
      ]
     },
     "execution_count": 119,
     "metadata": {},
     "output_type": "execute_result"
    }
   ],
   "source": [
    "np.sum(dec,axis=0).astype(int)"
   ]
  },
  {
   "cell_type": "code",
   "execution_count": 105,
   "metadata": {},
   "outputs": [
    {
     "data": {
      "text/plain": [
       "array([  0,   1,   2,   3,   4,   5,   6,   7,   8,   9,  10,  11,  12,\n",
       "        13,  14,  15,  16,  17,  18,  19,  20,  21,  22,  23,  24,  25,\n",
       "        26,  27,  28,  29,  30,  31,  32,  33,  34,  35,  36,  37,  38,\n",
       "        39,  40,  41,  42,  43,  44,  45,  46,  47,  48,  49,  50,  51,\n",
       "        52,  53,  54,  55,  56,  57,  58,  59,  60,  61,  62,  63,  64,\n",
       "        65,  66,  67,  68,  69,  70,  71,  72,  73,  74,  75,  76,  77,\n",
       "        78,  79,  80,  81,  82,  83,  84,  85,  86,  87,  88,  89,  90,\n",
       "        91,  92,  93,  94,  95,  96,  97,  98,  99, 100])"
      ]
     },
     "execution_count": 105,
     "metadata": {},
     "output_type": "execute_result"
    }
   ],
   "source": [
    "hun"
   ]
  },
  {
   "cell_type": "code",
   "execution_count": 66,
   "metadata": {},
   "outputs": [],
   "source": [
    "sc = 1. / scales.transpose()"
   ]
  },
  {
   "cell_type": "code",
   "execution_count": 67,
   "metadata": {},
   "outputs": [],
   "source": [
    "# np.remainder(hun, scales.transpose()).astype(int).transpose().tolist()"
   ]
  },
  {
   "cell_type": "code",
   "execution_count": 68,
   "metadata": {},
   "outputs": [],
   "source": [
    "v = (sc * hun ).astype(int)"
   ]
  },
  {
   "cell_type": "code",
   "execution_count": 16,
   "metadata": {},
   "outputs": [
    {
     "data": {
      "text/plain": [
       "-1.0"
      ]
     },
     "execution_count": 16,
     "metadata": {},
     "output_type": "execute_result"
    }
   ],
   "source": [
    "np.sin(3.*np.pi/2.)"
   ]
  },
  {
   "cell_type": "code",
   "execution_count": null,
   "metadata": {},
   "outputs": [],
   "source": [
    "hun * "
   ]
  }
 ],
 "metadata": {
  "kernelspec": {
   "display_name": "Python 3",
   "language": "python",
   "name": "python3"
  },
  "language_info": {
   "codemirror_mode": {
    "name": "ipython",
    "version": 3
   },
   "file_extension": ".py",
   "mimetype": "text/x-python",
   "name": "python",
   "nbconvert_exporter": "python",
   "pygments_lexer": "ipython3",
   "version": "3.8.5"
  }
 },
 "nbformat": 4,
 "nbformat_minor": 4
}
