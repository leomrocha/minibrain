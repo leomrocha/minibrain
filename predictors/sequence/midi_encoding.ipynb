{
 "cells": [
  {
   "cell_type": "markdown",
   "metadata": {},
   "source": [
    "[Leo's Home page](https://leomrocha.github.com) -- [Github Page](https://github.com/leomrocha/minibrain/blob/master/predictors/sequence/midi_encoding.ipynb) -- License: [CC BY-SA 4.0](https://creativecommons.org/licenses/by-sa/4.0/)"
   ]
  },
  {
   "cell_type": "markdown",
   "metadata": {},
   "source": [
    "# MIDI encoding analysis"
   ]
  },
  {
   "cell_type": "markdown",
   "metadata": {},
   "source": [
    "[Leonardo M. Rocha](https://leomrocha.github.com)\n",
    "\n",
    "[Contact Me](https://leomrocha.github.io/contact/)"
   ]
  },
  {
   "cell_type": "markdown",
   "metadata": {},
   "source": [
    "This document contains a complete description step by step of the process and ideas behind the proposed encodings, it might be long.\n",
    "\n",
    "The ideas here were inspired by the work I was doing to help with [Few Shot Music Generation](https://github.com/AI-ON/Few-Shot-Music-Generation) project. My fork is located [here](https://github.com/leomrocha/Few-Shot-Music-Generation)\n",
    "\n",
    "## TLDR:\n",
    "\n",
    "The encoding instead of being a huge one-hot vector (dimension 4708) it can be separated in several inputs each of them a one-hot vector of lower dimensionality and a time encoding given by a sum of sinusoids with different period. \n",
    "\n",
    "The source code is provided to automatically do the encoding as a python package with numpy."
   ]
  },
  {
   "cell_type": "markdown",
   "metadata": {},
   "source": [
    "## Introduction\n",
    "\n",
    "This current analysis tries to find another alternative encoding to try in conjunction with the previous one. \n",
    "\n",
    "Current encoding based in the Magenta project has the following properties:\n",
    " - Time is detached as a separate TIME_SHIFT event\n",
    " - code is one hot for all the elements giving vectors of dimension 4708 \n",
    "\n",
    "The idea of the current analysis is to discuss the following points:\n",
    " - Try to find a code that takes less space\n",
    " - Argue that alternative time-coding could be worth trying\n",
    " \n",
    "The current encoding separates a TIME_SHIFT event as a separate event, in my opinion the time of an event is an intrinsic property of it, so separating it might make more difficult for the network to learn what the time means. \n",
    "\n",
    "The other issue is that similar structures (in music as well as in other kind of languages) might repeat at different time scales, the fact that the time event is treated as one separate event with it's own duration (actually 100 different types of TIME_SHIFT event) might make it harder to the network to detect patterns. This added to the high number of input features (4708) makes me think that the training time and number of samples needed for the training might be big."
   ]
  },
  {
   "cell_type": "code",
   "execution_count": 1,
   "metadata": {},
   "outputs": [
    {
     "data": {
      "text/plain": [
       "4708"
      ]
     },
     "execution_count": 1,
     "metadata": {},
     "output_type": "execute_result"
    }
   ],
   "source": [
    "# current input one-hot vector dimension\n",
    "16*128*2+32*16+100"
   ]
  },
  {
   "cell_type": "markdown",
   "metadata": {},
   "source": [
    "In this study I propose another way of encoding that I would like to try reducing the number of features between 1 and 2 orders of magnitude and providing a Fourier series approximation inspired time and velocity approximation.\n",
    "\n",
    "I know that is not a traditional encoding, but I think might be worth trying (specially as I don't have so many computational resources)"
   ]
  },
  {
   "cell_type": "markdown",
   "metadata": {},
   "source": [
    "## Basic Idea Description\n",
    "\n",
    "The basic idea is that a feature vector will be composed of several different features (7) encoded in different ways\n",
    "\n",
    "From a midi file extract:\n",
    "\n",
    "Event = [instrument, octave, note(s), action (on|off), velocity, time]"
   ]
  },
  {
   "cell_type": "markdown",
   "metadata": {},
   "source": [
    "### Codes:\n",
    "\n",
    "* instrument: (one|multi?) hot encoding: 16 instruments, many instruments can start or finish at the same time\n",
    "* octave: (one|multi?) hot encoding: 11 octaves, many octaves can have an event at the same time\n",
    "* note(s): (one|multi?) hot encoding: 12 notes per octave, many notes can start or finish at the same time\n",
    "* action (on|off): one hot\n",
    "* velocity: either a sampled (maybe 32 as the current approach) one-hot encoding, or a fourier inspired approach\n",
    "* time: Fourier inspired approach to encoding"
   ]
  },
  {
   "cell_type": "markdown",
   "metadata": {},
   "source": [
    "### Encoding Problems & Questions\n",
    "\n",
    "As there might be more than 1 note, octave or instrument event at the same this could be dealt as:\n",
    "1. doing an actual one-hot encoding and separating all the events, but writing the same event time -> can this confuse the network??\n",
    "2. doing a multi-hot encoding and trying to find out a way ouf of this during the decoding stage (something like auto-correlation or a sort of dynamic-routing ? ) This would also mix the signals of the velocity of each note, which is problematic for the purpose of the exercise."
   ]
  },
  {
   "cell_type": "markdown",
   "metadata": {},
   "source": [
    "### Features candidates for One-hot Encoding\n",
    "\n",
    "As MIDI events are independent (each note on|off event of a single instrument is a different event) and for the purpose of this encoding proposal the solution would be to do actual one-hot encoding and separate all the events. A single event will correspond to a single instrument and note event with the corresponding velocity and time encoding.\n",
    " "
   ]
  },
  {
   "cell_type": "code",
   "execution_count": 2,
   "metadata": {},
   "outputs": [
    {
     "data": {
      "text/plain": [
       "11.0"
      ]
     },
     "execution_count": 2,
     "metadata": {},
     "output_type": "execute_result"
    }
   ],
   "source": [
    "# computation of the number of octaves needed for the encoding\n",
    "import numpy as np\n",
    "np.ceil(128/12.)"
   ]
  },
  {
   "cell_type": "code",
   "execution_count": 3,
   "metadata": {},
   "outputs": [
    {
     "data": {
      "text/plain": [
       "41"
      ]
     },
     "execution_count": 3,
     "metadata": {},
     "output_type": "execute_result"
    }
   ],
   "source": [
    "# dimensionality analysis -> basic (one)-hot encoding\n",
    "16 + 11 + 12 + 2"
   ]
  },
  {
   "cell_type": "markdown",
   "metadata": {},
   "source": [
    "The basic coding of the event will contain a minimum of 41 dimensions to which must be added the encoding of the velocity and time encoding"
   ]
  },
  {
   "cell_type": "markdown",
   "metadata": {},
   "source": [
    "### Velocity encoding\n",
    "\n",
    "Both solutions are presented here, One-Hot Encoding and Fourier Inspired Encoding."
   ]
  },
  {
   "cell_type": "markdown",
   "metadata": {},
   "source": [
    "#### One-Hot encoding of Velocity\n",
    "\n",
    "In this case the same number of velocities will be used as in the current approach, this means that the velocity vector will have a dimension of 32"
   ]
  },
  {
   "cell_type": "markdown",
   "metadata": {},
   "source": [
    "#### Sinusoidal (Fourier Inspired) Encoding of Velocity\n",
    "\n",
    "The resolution that is looked at is to be able to differentiate at least 32 different velocities.\n",
    "\n",
    "As a description later on time encoding analysis will show, we can deal with a resolution of 256 velocities with $ 256 = 2^8 $ sinusoidals which would take the dimensionality of the input to $ 41 + 8 = 49 $\n",
    "\n",
    "For a resolution of 32 velocities we need only $ 32 = 2^5 $ for a the dimensionality of the input to $ 41 + 5 = 46 $\n"
   ]
  },
  {
   "cell_type": "code",
   "execution_count": 4,
   "metadata": {},
   "outputs": [
    {
     "data": {
      "text/plain": [
       "(256, 32)"
      ]
     },
     "execution_count": 4,
     "metadata": {},
     "output_type": "execute_result"
    }
   ],
   "source": [
    "2**8, 2**5"
   ]
  },
  {
   "cell_type": "markdown",
   "metadata": {},
   "source": [
    "## Time encoding \n",
    "\n",
    "\n",
    "### Why not linear encoding?\n",
    "\n",
    "Let's do a simple linear function, this can not hold as it diverges\n",
    "\n",
    "Let's imaging an encoding where the time is cutted in 3 different parts:\n",
    "* milliseconds\n",
    "* seconds\n",
    "* minutes\n",
    "\n",
    "the functions will be linear in a range, but will have undefined elements at the borders, the derivatives are undefined there and the NNs are shown that they do not behave nice with these kind of functions\n",
    "\n",
    "Then we can think of a continuous function, sinusoidal ones are really good for this, well studied and implemented in every standard library.\n",
    "\n"
   ]
  },
  {
   "cell_type": "markdown",
   "metadata": {},
   "source": [
    "### Time resolution Analysis\n",
    "\n",
    "Now let's think for a moment from the point of view of listening to  music (instead of time passing) for this we'd like a time resolution: \n",
    "\n",
    "* maximum (desired) 10 milliseconds.\n",
    "* minimum about 10 minutes ... ? let's take 10 minutes for the sake of this example (could be more or less depending on the needed domain)\n",
    "\n",
    "_Note_: There are studies on real-time [latency issue](https://dl.acm.org/citation.cfm?id=1085892) but is not of our concern here.\n",
    "\n",
    "For a perfect reconstruction the sampling frequency to discretize a function is given by the [Nyquist theorem](https://en.wikipedia.org/wiki/Nyquist%E2%80%93Shannon_sampling_theorem):\n",
    "\n",
    "    If a function x(t) contains no frequencies higher than B hertz, \n",
    "    it is completely determined by giving its ordinates at a series \n",
    "    of points spaced 1/(2B) seconds apart.\n",
    "    \n",
    "Which means that for a *perfect* reconstruction for a given sample rate $fs$ is guaranteed for a *Bandlimit* $B < fs/2$\n",
    "\n",
    "Let's imagine that we want to approximate the time for a minimum and maximum time interval, we could use sum of sinusoids to approximate it. \n",
    "\n",
    "In our case $B = 100Hz $ for the maximum frequency (100 times 10 ms for 1 sec), hence the sampling rate would be *5ms*, taking in account that also there will be reconstruction errors and some other issues we could argue that $ fs<5ms $ let's say $ 4ms $ to be sure \n",
    "\n",
    "And for the case of the 10 minutes one, this gives us $ 10*60 = 600 s $ so $ 1/600 ~ 0.00167Hz =>  fs < 0.000833Hz $\n",
    "\n",
    "As a reference the human hearing resolution is about $ 20KHz $ and the CD sampling is $ 44.1KHz $ \n",
    "\n",
    "\n",
    "\n",
    "**With a sampling in each resolution level we should be able to reconstruct the patterns at different time-scales.**\n",
    "\n",
    "_____\n"
   ]
  },
  {
   "cell_type": "code",
   "execution_count": 5,
   "metadata": {},
   "outputs": [
    {
     "data": {
      "text/plain": [
       "(0.0016666666666666668, 0.0008333333333333334)"
      ]
     },
     "execution_count": 5,
     "metadata": {},
     "output_type": "execute_result"
    }
   ],
   "source": [
    "f = (1./600)\n",
    "fs = f/2\n",
    "f,fs"
   ]
  },
  {
   "cell_type": "markdown",
   "metadata": {},
   "source": [
    "### Time encoding details\n",
    "\n",
    "#### Intuition\n",
    "\n",
    "We are using time as reference, Not all the existing time but just a part of it, a range that is big enough to accomodate our work. In the case of music a few minutes (~10?) would suffice. In the case of lyrics they are even shorter if we count the number of letters than the number of milliseconds in a music piece.\n",
    "\n",
    "Periodic functions should be easier for a NN to learn to include periodic elements (languages have periodic elements) than a linear one.\n",
    "\n",
    "The Fourier Series can represent periodic functions with sums of sinusoidal functions.\n",
    "\n",
    "To be able to represent a linear function with a Fourier Series, we can think of a sawtooth wave and just take only one period. \n",
    "\n",
    "(TODO graph here)\n"
   ]
  },
  {
   "cell_type": "markdown",
   "metadata": {},
   "source": [
    "#### Reference Formulas\n",
    "\n",
    "\n",
    "*Euler's Formula* \n",
    "\\begin{equation}\n",
    " e^{ix} = cos(x) + i\\sin(x)\n",
    "\\end{equation}\n",
    "\n",
    "\\begin{equation}\n",
    " cos(x) = \\frac{e^{ix} + e^{-ix} } {2}\n",
    "\\end{equation}\n",
    "\n",
    "\\begin{equation}\n",
    " sin(x) = \\frac{e^{ix} - e^{-ix} } {2 i }\n",
    "\\end{equation}\n",
    "\n",
    "\n",
    "*Fourier Series* \n",
    "\n",
    "\\begin{equation}\n",
    "f(x) = \\sum_{n=-\\infty}^\\infty(c_n(f) e^{i2\\pi {n/T} x} )\n",
    "\\end{equation}\n",
    "where\n",
    "\\begin{equation}\n",
    "c_n(f) = \\frac{1}{T} \\int_{-T/2}^{T/2} ( f(t) e^{-i2\\pi {n/T} x} ) \n",
    "\\end{equation}"
   ]
  },
  {
   "cell_type": "markdown",
   "metadata": {},
   "source": [
    "In our case there is no need to go so far as using the Fourier Series but this gives an inspiration on how to encode the values. \n",
    "Also we don't want (or even need):\n",
    " - the complete series $ [-\\infty,\\infty] $ but enough values that allows us to reconstruct well enough our function\n",
    " - to know the * Fourier Coefficients* $ c_n $ we don't need to compute the integral but we can estimate their values (done later)\n",
    "\n",
    "We could use either the *Complex Domain* values or go for the *Discrete Cosine Transform* but we'll do something simpler that is choosing sinusoidals"
   ]
  },
  {
   "cell_type": "markdown",
   "metadata": {},
   "source": [
    "Let's come back to time and think how we can encode the time, which is a linear function that just grows.\n",
    "\n",
    "For this analysis we constrain the time to be only a segment between $ 0s $ and a max value $ Ms $ in seconds\n",
    "\n",
    "To be able to recreate the original function we would need a series of functions that can represent elements that go from the maximum to the minimum resolution.\n",
    "\n",
    "Let the first sinusoidal represent the values up to the period $ T = 5ms = 0.005s $ and the last one $ Ms $ \n",
    "\n",
    "Now let's work directly in milliseconds and forget about the unit, which for the purpose of the experiment does not affect the result as long as we can reconstruct the input correctly."
   ]
  },
  {
   "cell_type": "markdown",
   "metadata": {},
   "source": [
    "_____\n",
    "\n",
    "#### Hypothesis .... (not proved yet and in working progress...)\n",
    "\n",
    "_The main idea:_\n",
    "\n",
    "To **mix Fourier Series with the Shannon sampling**, trying to reconstruct not only the input signal patterns at each time scale, but being able to reconstruct the time signal (a linear function) restrained to a period interpreting it as a SawTooth-Wave, which means that we should be able not only to give different time scales to the network but also be able to reconstruct the (locally) linear signal in an easy way, which should be needed to be able to re-encode a MIDI or text file from the output of the network.\n",
    "\n",
    "We can encode any value between $ [0,5]ms $ , for the next we can duplicate the period $ T $ and we'll get the next resolution level. Advancing like this we need at least $ n $ values such as $ 2^n >= M $ and for the minimum resolution we need at most $ n $ values such as $ 2^n < 5 $\n",
    "\n",
    "Finding the exponents can be quickly achieved with a bit shifting trick:"
   ]
  },
  {
   "cell_type": "markdown",
   "metadata": {},
   "source": [
    "## WARNING\n",
    "\n",
    "I've found an error in the reasoning (to verify) I need to do one approximation PER SCALE not for all together ...."
   ]
  },
  {
   "cell_type": "code",
   "execution_count": 6,
   "metadata": {},
   "outputs": [],
   "source": [
    "def get_upper_pow2(M):\n",
    "    i = 1\n",
    "    n = 0\n",
    "    while (i <= M):\n",
    "        i = i << 1\n",
    "        n+=1\n",
    "    return n,i\n",
    "\n",
    "def get_lower_pow2(M):\n",
    "    i = 1\n",
    "    n = -1\n",
    "    while (i <= M):\n",
    "        i = i << 1\n",
    "        n+=1\n",
    "    return n,i"
   ]
  },
  {
   "cell_type": "code",
   "execution_count": 7,
   "metadata": {},
   "outputs": [
    {
     "name": "stdout",
     "output_type": "stream",
     "text": [
      "1 16 65536\n",
      "2 17 131072\n",
      "3 18 262144\n",
      "4 18 262144\n",
      "5 19 524288\n",
      "6 19 524288\n",
      "7 19 524288\n",
      "8 19 524288\n",
      "9 20 1048576\n",
      "10 20 1048576\n"
     ]
    }
   ],
   "source": [
    "for m in range (1,11): # iterating to show the vector dimension needed for each minute increment resolution\n",
    "    M = m * 60 * 1000 # 10 minutes, 60 seconds per minute 1000 ms -> putting all into\n",
    "    n,i = get_upper_pow2(M)\n",
    "    print( m, n, i)"
   ]
  },
  {
   "cell_type": "code",
   "execution_count": 8,
   "metadata": {},
   "outputs": [
    {
     "data": {
      "text/plain": [
       "(2, 8)"
      ]
     },
     "execution_count": 8,
     "metadata": {},
     "output_type": "execute_result"
    }
   ],
   "source": [
    "# and the smallest resolution:\n",
    "get_lower_pow2(5)"
   ]
  },
  {
   "cell_type": "markdown",
   "metadata": {},
   "source": [
    "Which means that we can encode 10 minutes worth of music with a $ 20 - 2 = 18 $ dimensional vector, $ 36 $ if we count a complex-value vector. \n",
    "\n",
    "For a total of $ 46 + 36 = 82 $ dimensions instead of $ 4708 $\n"
   ]
  },
  {
   "cell_type": "markdown",
   "metadata": {},
   "source": [
    "Let's think as an encoding as the $sin$ and $cos$ values, and the network works directly on this domain giving only the $sin$ and $cos$ values as results, this allows the network to work in sinusoidal periodic functions instead of the time domain. \n",
    "\n",
    "The decoding will take place just later to be able to do a reconstruction.\n",
    "\n",
    "The series needed then is one representing a SawTooth Wave but restrained only to the time period we need. This allows us to represent periodic elements inside a linear function.\n",
    "\n",
    "The other advantage of this function is that we can approximate it only with a real valued function, avoiding the complex domain and restraining the number of coefficients (and so dimensions) needed to only the real valued ones.\n",
    "\n",
    "This gives is a total of $ 46 + 18 = 64 $ dimensions for a complete representation of the input vector\n",
    "\n",
    "Which should be also great about this encoding is that if we create hierarchical representations, and each layer in the hierarchy corresponds to a different base resolution (ms, s, minutes, ...) then with limited amount of extra dimensions we could encode increasingly longer time periods.\n",
    "\n",
    "_____"
   ]
  },
  {
   "cell_type": "code",
   "execution_count": 9,
   "metadata": {},
   "outputs": [],
   "source": [
    "\n",
    "def get_upper_pow2(M):\n",
    "    i = 1\n",
    "    n = 0\n",
    "    while (i <= M):\n",
    "        i = i << 1\n",
    "        n+=1\n",
    "    return n\n",
    "\n",
    "\n",
    "def get_lower_pow2(m):\n",
    "    i = 1\n",
    "    n = -1\n",
    "    while (i <= m):\n",
    "        i = i << 1\n",
    "        n+=1\n",
    "    return n\n",
    "\n",
    "\n",
    "class Lin2WaveEncoder():\n",
    "    \"\"\"\n",
    "    Fourier Series Inspired Approximation of a linear function encoding.\n",
    "    Takes the linear function as one period of a SawTooth-Wave and encodes\n",
    "    the period with enough elements to approximate the function wiht the\n",
    "    resolution needed for a (close to) perfect reconstruction of the input\n",
    "    \"\"\"\n",
    "    def __init__(self, min_val, max_val, neg_allowed=True):\n",
    "        \"\"\"\n",
    "        @param min_val: minimum value to encode\n",
    "        @param max_val: maximum value to encode\n",
    "        @param neg_allowed=True : allow negative values in the encoded vecto. If False\n",
    "                        will move the sinusoids to the range [0,1]\n",
    "        \"\"\"\n",
    "        self.min = min_val\n",
    "        self.max = max_val\n",
    "        self.neg_allowed = neg_allowed\n",
    "        self.n_low = np.max(1, get_lower_pow2(min_val))\n",
    "        self.n_high = get_upper_pow2(max_val)\n",
    "        self.n = self.n_high - self.n_low\n",
    "        # Each period indicates a resolution level, this allows for different (time) scales\n",
    "        self.periods = [2**i for i in range(self.n_low, self.n_high)]  # choose periods acording to sampling -> maybe we should add 3rds and 5ths of each to allow for more complex time pattern compositions\n",
    "        # Fourier divisor coefficients of the Series\n",
    "        self.coefficients = [2*i for i in range(self.n_low, self.n_high)]  # just counting the elements\n",
    "        print(self.coefficients, self.periods)\n",
    "\n",
    "\n",
    "    def encode(self, x):\n",
    "        \"\"\"\n",
    "        @param x: input vector to encode\n",
    "        @return vector encoding the input x in the value points of x for the sinusoidal encoders\n",
    "        \"\"\"\n",
    "        vec = []\n",
    "        for n,T in zip(self.coefficients, self.periods):\n",
    "            val = np.stack( np.sin(n * x / T) ) # base term of a SawTooth Wave of period T Fourier Series\n",
    "            #val = np.stack( np.sin( x / T) ) # it seems to work better for the mix without the constant\n",
    "            vec.append(val)\n",
    "        ret = np.stack(vec)\n",
    "        if not self.neg_allowed:\n",
    "            ret = (ret + 1. ) / 2.  # pull all the encoded values in range [0,1]\n",
    "        return ret\n",
    "\n",
    "    def decode(self, vec):\n",
    "        \"\"\"\n",
    "        @param vec: multi-dimensional input vector to decode into the original signal\n",
    "        \"\"\"\n",
    "        x = 0\n",
    "        scale_factor = []\n",
    "        for n,T in zip(self.coefficients, self.periods):\n",
    "            scale_factor.append((1./n)*T)  # Scale factor of each term\n",
    "            #scale_factor.append(T)  # Scale factor of each term\n",
    "        scale_factor = np.array(scale_factor)\n",
    "        tx = vec\n",
    "        tx = tx * scale_factor[:,None]\n",
    "        x = np.sum(tx, axis=0)\n",
    "        if not self.neg_allowed:  # here as is commutative to make less computations\n",
    "            x = (x * 2.) -1 # go back to the original range\n",
    "        return x\n"
   ]
  },
  {
   "cell_type": "code",
   "execution_count": 59,
   "metadata": {},
   "outputs": [
    {
     "name": "stdout",
     "output_type": "stream",
     "text": [
      "[2, 4, 6, 8, 10, 12, 14, 16, 18, 20, 22, 24, 26, 28, 30, 32, 34, 36, 38] [2, 4, 8, 16, 32, 64, 128, 256, 512, 1024, 2048, 4096, 8192, 16384, 32768, 65536, 131072, 262144, 524288]\n"
     ]
    }
   ],
   "source": [
    "we = Lin2WaveEncoder(1,1000000) # 10 seconds max -> 13 parameters"
   ]
  },
  {
   "cell_type": "code",
   "execution_count": 60,
   "metadata": {},
   "outputs": [],
   "source": [
    "l_short = np.linspace(0,np.pi,10000)  # for short periods the reconstruction works great -> this is already usable if the input is scaled to these kind of elements\n",
    "l_long = np.linspace(0,10000,1000)  # for long periods this starts to work less and less well"
   ]
  },
  {
   "cell_type": "code",
   "execution_count": 61,
   "metadata": {},
   "outputs": [],
   "source": [
    "import matplotlib.pyplot as plt\n",
    "%matplotlib inline"
   ]
  },
  {
   "cell_type": "code",
   "execution_count": 62,
   "metadata": {},
   "outputs": [
    {
     "data": {
      "text/plain": [
       "[<matplotlib.lines.Line2D at 0x7f47ffe61940>]"
      ]
     },
     "execution_count": 62,
     "metadata": {},
     "output_type": "execute_result"
    },
    {
     "data": {
      "image/png": "[encoded data removed]",
      "text/plain": [
       "<matplotlib.figure.Figure at 0x7f47ffebcb38>"
      ]
     },
     "metadata": {},
     "output_type": "display_data"
    }
   ],
   "source": [
    "plt.plot(l_short)"
   ]
  },
  {
   "cell_type": "code",
   "execution_count": 14,
   "metadata": {},
   "outputs": [
    {
     "data": {
      "text/plain": [
       "[<matplotlib.lines.Line2D at 0x7f480802bf28>]"
      ]
     },
     "execution_count": 14,
     "metadata": {},
     "output_type": "execute_result"
    },
    {
     "data": {
      "image/png": "[encoded data removed]",
      "text/plain": [
       "<matplotlib.figure.Figure at 0x7f48080aee80>"
      ]
     },
     "metadata": {},
     "output_type": "display_data"
    }
   ],
   "source": [
    "plt.plot(l_long)"
   ]
  },
  {
   "cell_type": "code",
   "execution_count": 15,
   "metadata": {},
   "outputs": [],
   "source": [
    "el_short = we.encode(l_short)\n",
    "el_long  = we.encode(l_long)"
   ]
  },
  {
   "cell_type": "code",
   "execution_count": 16,
   "metadata": {},
   "outputs": [
    {
     "data": {
      "text/plain": [
       "((13, 10000), (13, 1000))"
      ]
     },
     "execution_count": 16,
     "metadata": {},
     "output_type": "execute_result"
    }
   ],
   "source": [
    "el_short.shape, el_long.shape"
   ]
  },
  {
   "cell_type": "code",
   "execution_count": 17,
   "metadata": {},
   "outputs": [],
   "source": [
    "dl_short = we.decode(l_short)\n",
    "dl_long  = we.decode(l_long)"
   ]
  },
  {
   "cell_type": "code",
   "execution_count": 18,
   "metadata": {},
   "outputs": [
    {
     "data": {
      "text/plain": [
       "((10000,), (1000,))"
      ]
     },
     "execution_count": 18,
     "metadata": {},
     "output_type": "execute_result"
    }
   ],
   "source": [
    "dl_short.shape, dl_long.shape"
   ]
  },
  {
   "cell_type": "code",
   "execution_count": 19,
   "metadata": {},
   "outputs": [
    {
     "data": {
      "text/plain": [
       "[<matplotlib.lines.Line2D at 0x7f4808024278>]"
      ]
     },
     "execution_count": 19,
     "metadata": {},
     "output_type": "execute_result"
    },
    {
     "data": {
      "image/png": "[encoded data removed]",
      "text/plain": [
       "<matplotlib.figure.Figure at 0x7f48080376a0>"
      ]
     },
     "metadata": {},
     "output_type": "display_data"
    }
   ],
   "source": [
    "plt.plot(dl_short)"
   ]
  },
  {
   "cell_type": "code",
   "execution_count": 20,
   "metadata": {},
   "outputs": [
    {
     "data": {
      "text/plain": [
       "[<matplotlib.lines.Line2D at 0x7f4807f87978>]"
      ]
     },
     "execution_count": 20,
     "metadata": {},
     "output_type": "execute_result"
    },
    {
     "data": {
      "image/png": "[encoded data removed]",
      "text/plain": [
       "<matplotlib.figure.Figure at 0x7f4807fb3710>"
      ]
     },
     "metadata": {},
     "output_type": "display_data"
    }
   ],
   "source": [
    "plt.clf()\n",
    "plt.plot(dl_long)"
   ]
  },
  {
   "cell_type": "markdown",
   "metadata": {},
   "source": [
    "**WARNING** : there is stil something wrong with the scale of the reconstruction.\n",
    "Also, there is an issue that now I have not managed to reproduce and is the deformation that occurred before with the samples .... I have to find out what is there"
   ]
  },
  {
   "cell_type": "code",
   "execution_count": 21,
   "metadata": {},
   "outputs": [],
   "source": [
    "def fourier10000(x):\n",
    "    ret = -10000*np.sin(np.pi*x/5000)/np.pi - 5000*np.sin(np.pi*x/2500)/np.pi - 10000*np.sin(3*np.pi*x/5000)/(3*np.pi) - 2500*np.sin(np.pi*x/1250)/np.pi - 2000*np.sin(np.pi*x/1000)/np.pi - 5000*np.sin(3*np.pi*x/2500)/(3*np.pi) - 10000*np.sin(7*np.pi*x/5000)/(7*np.pi) - 1250*np.sin(np.pi*x/625)/np.pi - 10000*np.sin(9*np.pi*x/5000)/(9*np.pi) - 1000*np.sin(np.pi*x/500)/np.pi\n",
    "    return ret"
   ]
  },
  {
   "cell_type": "code",
   "execution_count": 22,
   "metadata": {},
   "outputs": [],
   "source": [
    "fel_short = fourier10000(l_short)\n",
    "fel_long = fourier10000(l_long)"
   ]
  },
  {
   "cell_type": "code",
   "execution_count": 23,
   "metadata": {},
   "outputs": [
    {
     "data": {
      "text/plain": [
       "[<matplotlib.lines.Line2D at 0x7f4807efb668>]"
      ]
     },
     "execution_count": 23,
     "metadata": {},
     "output_type": "execute_result"
    },
    {
     "data": {
      "image/png": "[encoded data removed]",
      "text/plain": [
       "<matplotlib.figure.Figure at 0x7f4807f9b908>"
      ]
     },
     "metadata": {},
     "output_type": "display_data"
    }
   ],
   "source": [
    "plt.plot(fel_short)"
   ]
  },
  {
   "cell_type": "code",
   "execution_count": 24,
   "metadata": {},
   "outputs": [
    {
     "data": {
      "text/plain": [
       "[<matplotlib.lines.Line2D at 0x7f4807ee05c0>]"
      ]
     },
     "execution_count": 24,
     "metadata": {},
     "output_type": "execute_result"
    },
    {
     "data": {
      "image/png": "[encoded data removed]",
      "text/plain": [
       "<matplotlib.figure.Figure at 0x7f4807f519b0>"
      ]
     },
     "metadata": {},
     "output_type": "display_data"
    }
   ],
   "source": [
    "plt.plot(fel_long)"
   ]
  },
  {
   "cell_type": "markdown",
   "metadata": {},
   "source": [
    "### Other tools (python)\n",
    "\n",
    "There are already available libraries that can compute the fourier series approximation for a function, so this would make it easier to compute.\n",
    "\n",
    "Here there are some tests with sympy to compute it."
   ]
  },
  {
   "cell_type": "code",
   "execution_count": 25,
   "metadata": {},
   "outputs": [],
   "source": [
    "import sympy\n",
    "from sympy import fourier_series, pi\n",
    "from sympy import abc\n",
    "from sympy.plotting import plot as spplot"
   ]
  },
  {
   "cell_type": "code",
   "execution_count": 26,
   "metadata": {},
   "outputs": [],
   "source": [
    "M = 1 # seconds\n",
    "sm = fourier_series(abc.x, (abc.x, 0, M))\n",
    "sm10k = fourier_series(abc.x, (abc.x, 0, 10000))"
   ]
  },
  {
   "cell_type": "code",
   "execution_count": 27,
   "metadata": {},
   "outputs": [
    {
     "data": {
      "text/plain": [
       "-sin(2*pi*x)/pi - sin(4*pi*x)/(2*pi) - sin(6*pi*x)/(3*pi) - sin(8*pi*x)/(4*pi) - sin(10*pi*x)/(5*pi) - sin(12*pi*x)/(6*pi) - sin(14*pi*x)/(7*pi) - sin(16*pi*x)/(8*pi) - sin(18*pi*x)/(9*pi) - sin(20*pi*x)/(10*pi)"
      ]
     },
     "execution_count": 27,
     "metadata": {},
     "output_type": "execute_result"
    }
   ],
   "source": [
    "sm.truncate(10)"
   ]
  },
  {
   "cell_type": "code",
   "execution_count": 28,
   "metadata": {},
   "outputs": [],
   "source": [
    "from sympy import lambdify"
   ]
  },
  {
   "cell_type": "code",
   "execution_count": 29,
   "metadata": {},
   "outputs": [],
   "source": [
    "fsm = lambdify(abc.x, sm.truncate(10), \"numpy\")"
   ]
  },
  {
   "cell_type": "code",
   "execution_count": 30,
   "metadata": {},
   "outputs": [
    {
     "data": {
      "text/plain": [
       "7.796343665038751e-16"
      ]
     },
     "execution_count": 30,
     "metadata": {},
     "output_type": "execute_result"
    }
   ],
   "source": [
    "fsm(1)"
   ]
  },
  {
   "cell_type": "code",
   "execution_count": 31,
   "metadata": {},
   "outputs": [
    {
     "data": {
      "text/plain": [
       "(-sin(2*pi*x)/pi,\n",
       " -sin(4*pi*x)/(2*pi),\n",
       " -sin(6*pi*x)/(3*pi),\n",
       " -sin(8*pi*x)/(4*pi),\n",
       " -sin(10*pi*x)/(5*pi),\n",
       " -sin(12*pi*x)/(6*pi),\n",
       " -sin(14*pi*x)/(7*pi),\n",
       " -sin(16*pi*x)/(8*pi),\n",
       " -sin(18*pi*x)/(9*pi),\n",
       " -sin(20*pi*x)/(10*pi))"
      ]
     },
     "execution_count": 31,
     "metadata": {},
     "output_type": "execute_result"
    }
   ],
   "source": [
    "sm.truncate(10).args"
   ]
  },
  {
   "cell_type": "code",
   "execution_count": 32,
   "metadata": {},
   "outputs": [
    {
     "data": {
      "text/plain": [
       "(-1, 1/pi, sin(2*pi*x))"
      ]
     },
     "execution_count": 32,
     "metadata": {},
     "output_type": "execute_result"
    }
   ],
   "source": [
    "sm.truncate(10).args[0].args"
   ]
  },
  {
   "cell_type": "code",
   "execution_count": 33,
   "metadata": {},
   "outputs": [
    {
     "data": {
      "text/plain": [
       "(-10000*sin(pi*x/5000)/pi,\n",
       " -5000*sin(pi*x/2500)/pi,\n",
       " -2500*sin(pi*x/1250)/pi,\n",
       " -2000*sin(pi*x/1000)/pi,\n",
       " -1250*sin(pi*x/625)/pi,\n",
       " -1000*sin(pi*x/500)/pi,\n",
       " -10000*sin(3*pi*x/5000)/(3*pi),\n",
       " -10000*sin(7*pi*x/5000)/(7*pi),\n",
       " -10000*sin(9*pi*x/5000)/(9*pi),\n",
       " -5000*sin(3*pi*x/2500)/(3*pi))"
      ]
     },
     "execution_count": 33,
     "metadata": {},
     "output_type": "execute_result"
    }
   ],
   "source": [
    "sm10k.truncate(10).args"
   ]
  },
  {
   "cell_type": "code",
   "execution_count": 34,
   "metadata": {},
   "outputs": [],
   "source": [
    "f1 = sm10k.truncate(10).args[0]"
   ]
  },
  {
   "cell_type": "code",
   "execution_count": 35,
   "metadata": {},
   "outputs": [
    {
     "data": {
      "text/plain": [
       "-10000/pi"
      ]
     },
     "execution_count": 35,
     "metadata": {},
     "output_type": "execute_result"
    }
   ],
   "source": [
    "np.product(f1.args[:-1])"
   ]
  },
  {
   "cell_type": "code",
   "execution_count": 36,
   "metadata": {},
   "outputs": [],
   "source": [
    "coef_fact = [ (np.product(f.args[:-1]),  lambdify(abc.x, f.args[-1], \"numpy\")  ) for f in sm10k.truncate(10).args]"
   ]
  },
  {
   "cell_type": "code",
   "execution_count": 37,
   "metadata": {},
   "outputs": [],
   "source": [
    "z1,z2 = zip(*coef_fact)"
   ]
  },
  {
   "cell_type": "code",
   "execution_count": 38,
   "metadata": {},
   "outputs": [
    {
     "data": {
      "text/plain": [
       "(-10000/pi,\n",
       " -5000/pi,\n",
       " -2500/pi,\n",
       " -2000/pi,\n",
       " -1250/pi,\n",
       " -1000/pi,\n",
       " -10000/(3*pi),\n",
       " -10000/(7*pi),\n",
       " -10000/(9*pi),\n",
       " -5000/(3*pi))"
      ]
     },
     "execution_count": 38,
     "metadata": {},
     "output_type": "execute_result"
    }
   ],
   "source": [
    "z1"
   ]
  },
  {
   "cell_type": "code",
   "execution_count": 39,
   "metadata": {},
   "outputs": [
    {
     "data": {
      "text/plain": [
       "-3183.098861837907"
      ]
     },
     "execution_count": 39,
     "metadata": {},
     "output_type": "execute_result"
    }
   ],
   "source": [
    "lambdify(abc.x, z1[0], \"numpy\")(0)"
   ]
  },
  {
   "cell_type": "code",
   "execution_count": 40,
   "metadata": {},
   "outputs": [
    {
     "data": {
      "text/plain": [
       "3.14159265358979"
      ]
     },
     "execution_count": 40,
     "metadata": {},
     "output_type": "execute_result"
    }
   ],
   "source": [
    "pi.evalf()"
   ]
  },
  {
   "cell_type": "code",
   "execution_count": 41,
   "metadata": {},
   "outputs": [
    {
     "data": {
      "text/plain": [
       "-10000*sin(pi*x/5000)/pi - 5000*sin(pi*x/2500)/pi - 10000*sin(3*pi*x/5000)/(3*pi) - 2500*sin(pi*x/1250)/pi - 2000*sin(pi*x/1000)/pi - 5000*sin(3*pi*x/2500)/(3*pi) - 10000*sin(7*pi*x/5000)/(7*pi) - 1250*sin(pi*x/625)/pi - 10000*sin(9*pi*x/5000)/(9*pi) - 1000*sin(pi*x/500)/pi"
      ]
     },
     "execution_count": 41,
     "metadata": {},
     "output_type": "execute_result"
    }
   ],
   "source": [
    "sm10k.truncate(10)"
   ]
  },
  {
   "cell_type": "code",
   "execution_count": 42,
   "metadata": {},
   "outputs": [
    {
     "data": {
      "text/plain": [
       "-10000*sin(2*pi*x)/pi - 5000*sin(4*pi*x)/pi - 10000*sin(6*pi*x)/(3*pi) - 2500*sin(8*pi*x)/pi - 2000*sin(10*pi*x)/pi - 5000*sin(12*pi*x)/(3*pi) - 10000*sin(14*pi*x)/(7*pi) - 1250*sin(16*pi*x)/pi - 10000*sin(18*pi*x)/(9*pi) - 1000*sin(20*pi*x)/pi"
      ]
     },
     "execution_count": 42,
     "metadata": {},
     "output_type": "execute_result"
    }
   ],
   "source": [
    "sm.scale(10000).truncate(10)"
   ]
  },
  {
   "cell_type": "code",
   "execution_count": 43,
   "metadata": {},
   "outputs": [
    {
     "data": {
      "text/plain": [
       "-0.3*sin(2*pi*x) - 0.2*sin(4*pi*x) - 0.1*sin(6*pi*x) - 0.08*sin(8*pi*x) - 0.06*sin(10*pi*x) - 0.05*sin(12*pi*x) - 0.05*sin(14*pi*x) - 0.04*sin(16*pi*x) - 0.04*sin(18*pi*x) - 0.03*sin(20*pi*x)"
      ]
     },
     "execution_count": 43,
     "metadata": {},
     "output_type": "execute_result"
    }
   ],
   "source": [
    "sm.truncate(10).evalf(1)"
   ]
  },
  {
   "cell_type": "code",
   "execution_count": 44,
   "metadata": {},
   "outputs": [],
   "source": [
    "s = fourier_series(abc.x, (abc.x, 0, pi))"
   ]
  },
  {
   "cell_type": "code",
   "execution_count": 45,
   "metadata": {},
   "outputs": [
    {
     "data": {
      "text/plain": [
       "-10*sin(2*x) - 5*sin(4*x) - 10*sin(6*x)/3 - 5*sin(8*x)/2 - 2*sin(10*x) - 5*sin(12*x)/3 - 10*sin(14*x)/7 - 5*sin(16*x)/4 - 10*sin(18*x)/9 - sin(20*x)"
      ]
     },
     "execution_count": 45,
     "metadata": {},
     "output_type": "execute_result"
    }
   ],
   "source": [
    "s.scale(10).truncate(10)"
   ]
  },
  {
   "cell_type": "code",
   "execution_count": 46,
   "metadata": {},
   "outputs": [
    {
     "data": {
      "text/plain": [
       "-sin(2*x) - sin(4*x)/2 - sin(6*x)/3 - sin(8*x)/4 - sin(10*x)/5 - sin(12*x)/6 - sin(14*x)/7 - sin(16*x)/8 - sin(18*x)/9 - sin(20*x)/10 - sin(22*x)/11 - sin(24*x)/12 - sin(26*x)/13 - sin(28*x)/14 - sin(30*x)/15 - sin(32*x)/16 - sin(34*x)/17 - sin(36*x)/18 - sin(38*x)/19 - sin(40*x)/20"
      ]
     },
     "execution_count": 46,
     "metadata": {},
     "output_type": "execute_result"
    }
   ],
   "source": [
    "s.truncate(20)"
   ]
  },
  {
   "cell_type": "markdown",
   "metadata": {},
   "source": [
    "______\n",
    "______\n",
    "______"
   ]
  },
  {
   "cell_type": "markdown",
   "metadata": {},
   "source": [
    "# MIDI Encoding tests"
   ]
  },
  {
   "cell_type": "code",
   "execution_count": 47,
   "metadata": {},
   "outputs": [],
   "source": [
    "import string\n",
    "import collections\n",
    "import math\n",
    "import numpy as np\n",
    "import pandas as pd\n",
    "\n",
    "import pretty_midi\n",
    "\n",
    "import matplotlib.pyplot as plt\n",
    "\n",
    "%matplotlib inline"
   ]
  },
  {
   "cell_type": "code",
   "execution_count": 48,
   "metadata": {},
   "outputs": [],
   "source": [
    "test_midi = \"/home/leo/DeepLearning/Few-Shot-Music-Generation/Datasets/freemidi/freemidi_data/Aerosmith/crazy.mid\""
   ]
  },
  {
   "cell_type": "code",
   "execution_count": 49,
   "metadata": {},
   "outputs": [
    {
     "name": "stderr",
     "output_type": "stream",
     "text": [
      "/home/leo/DeepLearning/venv3/lib/python3.5/site-packages/pretty_midi/pretty_midi.py:100: RuntimeWarning: Tempo, Key or Time signature change events found on non-zero tracks.  This is not a valid type 0 or type 1 MIDI file.  Tempo, Key or Time Signature may be wrong.\n",
      "  RuntimeWarning)\n"
     ]
    }
   ],
   "source": [
    "midi_data = pretty_midi.PrettyMIDI(test_midi)"
   ]
  },
  {
   "cell_type": "code",
   "execution_count": 50,
   "metadata": {},
   "outputs": [
    {
     "data": {
      "text/plain": [
       "[Instrument(program=17, is_drum=False, name=\"Vocal\"),\n",
       " Instrument(program=27, is_drum=False, name=\"Guitar 1\"),\n",
       " Instrument(program=27, is_drum=False, name=\"Guitar 2\"),\n",
       " Instrument(program=33, is_drum=False, name=\"Bass\"),\n",
       " Instrument(program=0, is_drum=False, name=\"Piano\"),\n",
       " Instrument(program=50, is_drum=False, name=\"Chord Changes\"),\n",
       " Instrument(program=0, is_drum=True, name=\"Drums\"),\n",
       " Instrument(program=81, is_drum=False, name=\"\\\"Crazy\\\"  by  AEROSMITH\"),\n",
       " Instrument(program=0, is_drum=True, name=\"Sequenced by Ryan109\")]"
      ]
     },
     "execution_count": 50,
     "metadata": {},
     "output_type": "execute_result"
    }
   ],
   "source": [
    "midi_data.instruments"
   ]
  },
  {
   "cell_type": "code",
   "execution_count": 51,
   "metadata": {},
   "outputs": [],
   "source": [
    "i1 = midi_data.instruments[0]"
   ]
  },
  {
   "cell_type": "code",
   "execution_count": 52,
   "metadata": {},
   "outputs": [
    {
     "data": {
      "text/plain": [
       "pretty_midi.instrument.Instrument"
      ]
     },
     "execution_count": 52,
     "metadata": {},
     "output_type": "execute_result"
    }
   ],
   "source": [
    "type(i1)"
   ]
  },
  {
   "cell_type": "code",
   "execution_count": 53,
   "metadata": {},
   "outputs": [
    {
     "data": {
      "text/plain": [
       "'Vocal'"
      ]
     },
     "execution_count": 53,
     "metadata": {},
     "output_type": "execute_result"
    }
   ],
   "source": [
    "i1.name"
   ]
  },
  {
   "cell_type": "code",
   "execution_count": 54,
   "metadata": {},
   "outputs": [
    {
     "data": {
      "text/plain": [
       "261.555294"
      ]
     },
     "execution_count": 54,
     "metadata": {},
     "output_type": "execute_result"
    }
   ],
   "source": [
    "i1.get_end_time()"
   ]
  },
  {
   "cell_type": "code",
   "execution_count": 55,
   "metadata": {},
   "outputs": [
    {
     "data": {
      "text/plain": [
       "17"
      ]
     },
     "execution_count": 55,
     "metadata": {},
     "output_type": "execute_result"
    }
   ],
   "source": [
    "i1.program"
   ]
  },
  {
   "cell_type": "code",
   "execution_count": 56,
   "metadata": {},
   "outputs": [],
   "source": [
    "n1 = i1.notes[0]"
   ]
  },
  {
   "cell_type": "code",
   "execution_count": 57,
   "metadata": {},
   "outputs": [
    {
     "data": {
      "text/plain": [
       "Note(start=17.333316, end=17.444427, pitch=73, velocity=39)"
      ]
     },
     "execution_count": 57,
     "metadata": {},
     "output_type": "execute_result"
    }
   ],
   "source": [
    "n1"
   ]
  },
  {
   "cell_type": "markdown",
   "metadata": {},
   "source": [
    "TODO ...."
   ]
  },
  {
   "cell_type": "code",
   "execution_count": null,
   "metadata": {},
   "outputs": [],
   "source": []
  }
 ],
 "metadata": {
  "kernelspec": {
   "display_name": "Python 3",
   "language": "python",
   "name": "python3"
  },
  "language_info": {
   "codemirror_mode": {
    "name": "ipython",
    "version": 3
   },
   "file_extension": ".py",
   "mimetype": "text/x-python",
   "name": "python",
   "nbconvert_exporter": "python",
   "pygments_lexer": "ipython3",
   "version": "3.8.5"
  }
 },
 "nbformat": 4,
 "nbformat_minor": 4
}
